{
  "nbformat": 4,
  "nbformat_minor": 0,
  "metadata": {
    "celltoolbar": "Edit Metadata",
    "kernelspec": {
      "display_name": "Python 3",
      "language": "python",
      "name": "python3"
    },
    "language_info": {
      "codemirror_mode": {
        "name": "ipython",
        "version": 3
      },
      "file_extension": ".py",
      "mimetype": "text/x-python",
      "name": "python",
      "nbconvert_exporter": "python",
      "pygments_lexer": "ipython3",
      "version": "3.8.3"
    },
    "colab": {
      "name": "Week2-2_김성준.ipynb",
      "provenance": [],
      "include_colab_link": true
    }
  },
  "cells": [
    {
      "cell_type": "markdown",
      "metadata": {
        "id": "view-in-github",
        "colab_type": "text"
      },
      "source": [
        "<a href=\"https://colab.research.google.com/github/sjkim1220/datascience/blob/master/Week2_2_%EA%B9%80%EC%84%B1%EC%A4%80.ipynb\" target=\"_parent\"><img src=\"https://colab.research.google.com/assets/colab-badge.svg\" alt=\"Open In Colab\"/></a>"
      ]
    },
    {
      "cell_type": "markdown",
      "metadata": {
        "school_cell_uuid": "4e7a40fb49b24c27ba1c62ef2f52ecc4",
        "id": "0YzQoZMD9-dm"
      },
      "source": [
        "# 3.2 배열의 생성과 변형"
      ]
    },
    {
      "cell_type": "markdown",
      "metadata": {
        "school_cell_uuid": "fe1695a18e6f49a5aede6e03f1457f41",
        "id": "svwaRjpg9-dz"
      },
      "source": [
        "## 넘파이의 자료형"
      ]
    },
    {
      "cell_type": "markdown",
      "metadata": {
        "id": "OsBP-rNX9-d0"
      },
      "source": [
        "```{margin}\n",
        "`dtype`\n",
        "```"
      ]
    },
    {
      "cell_type": "markdown",
      "metadata": {
        "school_cell_uuid": "febc877ad92f4d9aa32063d5700b2bd7",
        "id": "yeETc1WV9-d1"
      },
      "source": [
        "넘파이의 배열 즉, `ndarray`클래스는 **원소가 모두 같은 자료형**이어야 한다. `array` 명령으로 배열을 만들 때 자료형을 명시적으로 적용하려면 `dtype` 인수를 사용한다. 만약 `dtype` 인수가 없으면 주어진 데이터를 저장할 수 있는 자료형을 스스로 유추한다. 만들어진 배열의 자료형을 알아내려면 `dtype` 속성을 보면 된다."
      ]
    },
    {
      "cell_type": "code",
      "metadata": {
        "id": "ZFjaSiA9-Kwq"
      },
      "source": [
        "import numpy as np"
      ],
      "execution_count": 1,
      "outputs": []
    },
    {
      "cell_type": "code",
      "metadata": {
        "school_cell_uuid": "9134e74d7b074bbf978d365e658c7c42",
        "id": "ATXuJqwF9-d3",
        "colab": {
          "base_uri": "https://localhost:8080/"
        },
        "outputId": "82f38207-8188-41ab-b2ef-7fc4521d291b"
      },
      "source": [
        "x = np.array([1, 2, 3])\n",
        "x.dtype"
      ],
      "execution_count": 2,
      "outputs": [
        {
          "output_type": "execute_result",
          "data": {
            "text/plain": [
              "dtype('int64')"
            ]
          },
          "metadata": {
            "tags": []
          },
          "execution_count": 2
        }
      ]
    },
    {
      "cell_type": "code",
      "metadata": {
        "school_cell_uuid": "30680991c7bb4857ac85c1b4693d207a",
        "id": "U0S0r6z59-d5",
        "colab": {
          "base_uri": "https://localhost:8080/"
        },
        "outputId": "8e214254-6abf-4690-e9b2-c3cb400bd07b"
      },
      "source": [
        "x = np.array([1.0, 2.0, 3.0])\n",
        "x.dtype"
      ],
      "execution_count": 3,
      "outputs": [
        {
          "output_type": "execute_result",
          "data": {
            "text/plain": [
              "dtype('float64')"
            ]
          },
          "metadata": {
            "tags": []
          },
          "execution_count": 3
        }
      ]
    },
    {
      "cell_type": "code",
      "metadata": {
        "school_cell_uuid": "39de98abd11c427495aaa1eb907e677d",
        "id": "IOfyEI7X9-d6",
        "colab": {
          "base_uri": "https://localhost:8080/"
        },
        "outputId": "2d91a68e-e010-4809-b1dc-180fdb334583"
      },
      "source": [
        "x = np.array([1, 2, 3.0])\n",
        "x.dtype"
      ],
      "execution_count": 4,
      "outputs": [
        {
          "output_type": "execute_result",
          "data": {
            "text/plain": [
              "dtype('float64')"
            ]
          },
          "metadata": {
            "tags": []
          },
          "execution_count": 4
        }
      ]
    },
    {
      "cell_type": "markdown",
      "metadata": {
        "school_cell_uuid": "4be2f0907d3b4b50a10b3dd7be321c07",
        "id": "6KYOCcj09-d7"
      },
      "source": [
        " `dtype` 인수로 지정할 자료형은 다음 표에 보인것과 같은 \"dtype 접두사\"로 시작하는 문자열이고 이 글자 뒤에 오는 숫자는 바이트 수 혹은 글자 수를 의미한다. 예를 들어 `f8`은 8바이트(64비트) 부동소수점 실수를 뜻하고 `U4` 는 4글자 유니코드 문자열을 뜻한다. 숫자를 생략하면 운영체제에 따라 알맞은 크기를 지정한다."
      ]
    },
    {
      "cell_type": "markdown",
      "metadata": {
        "school_cell_uuid": "5b61d2f3a3a843c5ad1f7b2b9584c6fd",
        "id": "bCc94S6t9-d8"
      },
      "source": [
        "| dtype 접두사 | 설명 | 사용 예 |\n",
        "|-|-|-|\n",
        "| `b` | 불리언 | `b` (참 혹은 거짓) | \n",
        "| `i` | 정수 | `i8` (64비트) | \n",
        "| `u` | 부호 없는 정수 | `u8` (64비트) | \n",
        "| `f` | 부동소수점 | `f8` (64비트) | \n",
        "| `c` | 복소 부동소수점 | `c16` (128비트) | \n",
        "| `O` | 객체 | `0` (객체에 대한 포인터) | \n",
        "| `S` | 바이트 문자열 | `S24` (24 글자) | \n",
        "| `U` | 유니코드 문자열 | `U24` (24 유니코드 글자) | "
      ]
    },
    {
      "cell_type": "code",
      "metadata": {
        "school_cell_uuid": "ff8c50f45c624eccbdfe2b51116da467",
        "id": "sObzoEGz9-d8",
        "colab": {
          "base_uri": "https://localhost:8080/"
        },
        "outputId": "43470948-c18a-463a-883a-d89e11788082"
      },
      "source": [
        "x = np.array([1, 2, 3], dtype='f')\n",
        "x.dtype"
      ],
      "execution_count": 5,
      "outputs": [
        {
          "output_type": "execute_result",
          "data": {
            "text/plain": [
              "dtype('float32')"
            ]
          },
          "metadata": {
            "tags": []
          },
          "execution_count": 5
        }
      ]
    },
    {
      "cell_type": "code",
      "metadata": {
        "school_cell_uuid": "6d26e85b2d694b44919f76a7ab9925aa",
        "id": "ybpckik39-d9",
        "colab": {
          "base_uri": "https://localhost:8080/"
        },
        "outputId": "f709fd0e-a687-4820-c36b-a852afca0c81"
      },
      "source": [
        "x[0] + x[1]"
      ],
      "execution_count": 6,
      "outputs": [
        {
          "output_type": "execute_result",
          "data": {
            "text/plain": [
              "3.0"
            ]
          },
          "metadata": {
            "tags": []
          },
          "execution_count": 6
        }
      ]
    },
    {
      "cell_type": "code",
      "metadata": {
        "school_cell_uuid": "e1e98736aba64814ba4f164236752ff8",
        "id": "px0gAHaR9-d-",
        "colab": {
          "base_uri": "https://localhost:8080/"
        },
        "outputId": "63e01698-2ab8-4974-9c21-e54df0c72729"
      },
      "source": [
        "x = np.array([1, 2, 3], dtype='U')\n",
        "x.dtype"
      ],
      "execution_count": 7,
      "outputs": [
        {
          "output_type": "execute_result",
          "data": {
            "text/plain": [
              "dtype('<U1')"
            ]
          },
          "metadata": {
            "tags": []
          },
          "execution_count": 7
        }
      ]
    },
    {
      "cell_type": "code",
      "metadata": {
        "school_cell_uuid": "0dc7fe8448034c1187b8d53ffb8604bb",
        "id": "wcjeyiOM9-d_",
        "colab": {
          "base_uri": "https://localhost:8080/",
          "height": 35
        },
        "outputId": "a0135466-ddb3-48f6-d6f4-57b833a6f2ee"
      },
      "source": [
        "x[0] + x[1]"
      ],
      "execution_count": 8,
      "outputs": [
        {
          "output_type": "execute_result",
          "data": {
            "application/vnd.google.colaboratory.intrinsic+json": {
              "type": "string"
            },
            "text/plain": [
              "'12'"
            ]
          },
          "metadata": {
            "tags": []
          },
          "execution_count": 8
        }
      ]
    },
    {
      "cell_type": "markdown",
      "metadata": {
        "school_cell_uuid": "59469678d34a455d88825371f2ba4b10",
        "id": "65PRPfGw9-eA"
      },
      "source": [
        "## `Inf`와 `NaN`"
      ]
    },
    {
      "cell_type": "markdown",
      "metadata": {
        "id": "sxGxPWDJ9-eA"
      },
      "source": [
        "```{margin}\n",
        "`Inf`\n",
        "```"
      ]
    },
    {
      "cell_type": "markdown",
      "metadata": {
        "id": "VbERSKXy9-eB"
      },
      "source": [
        "```{margin}\n",
        "`NaN`\n",
        "```"
      ]
    },
    {
      "cell_type": "markdown",
      "metadata": {
        "school_cell_uuid": "4be51b6fd04c41f09327e3d72c2153ee",
        "id": "-8F3WQ2U9-eC"
      },
      "source": [
        "넘파이에서는 무한대를 표현하기 위한 `np.inf`(infinity)와 정의할 수 없는 숫자를 나타내는 `np.nan`(not a number)을 사용할 수 있다. 다음 예와 같이 1을 0으로 나누려고 하거나 0에 대한 로그 값을 계산하면 무한대인 `np.inf`이 나온다. 0을 0으로 나누려고 시도하면 `np.nan`이 나온다."
      ]
    },
    {
      "cell_type": "code",
      "metadata": {
        "school_cell_uuid": "b4ed693f975a4d7da05af4252d47f30d",
        "id": "A2pUDL2k9-eC",
        "colab": {
          "base_uri": "https://localhost:8080/"
        },
        "outputId": "6ba48b82-415a-4d33-b546-184c49c239e7"
      },
      "source": [
        "np.array([0, 1, -1, 0]) / np.array([1, 0, 0, 0])"
      ],
      "execution_count": 9,
      "outputs": [
        {
          "output_type": "stream",
          "text": [
            "/usr/local/lib/python3.6/dist-packages/ipykernel_launcher.py:1: RuntimeWarning: divide by zero encountered in true_divide\n",
            "  \"\"\"Entry point for launching an IPython kernel.\n",
            "/usr/local/lib/python3.6/dist-packages/ipykernel_launcher.py:1: RuntimeWarning: invalid value encountered in true_divide\n",
            "  \"\"\"Entry point for launching an IPython kernel.\n"
          ],
          "name": "stderr"
        },
        {
          "output_type": "execute_result",
          "data": {
            "text/plain": [
              "array([  0.,  inf, -inf,  nan])"
            ]
          },
          "metadata": {
            "tags": []
          },
          "execution_count": 9
        }
      ]
    },
    {
      "cell_type": "code",
      "metadata": {
        "school_cell_uuid": "0ecf09051db4488f8bb7831bc0a46ee4",
        "id": "pNGK3qoi9-eD",
        "colab": {
          "base_uri": "https://localhost:8080/"
        },
        "outputId": "02f87d91-47f5-456b-8605-5a7e3e25bec8"
      },
      "source": [
        "np.log(0)"
      ],
      "execution_count": 10,
      "outputs": [
        {
          "output_type": "stream",
          "text": [
            "/usr/local/lib/python3.6/dist-packages/ipykernel_launcher.py:1: RuntimeWarning: divide by zero encountered in log\n",
            "  \"\"\"Entry point for launching an IPython kernel.\n"
          ],
          "name": "stderr"
        },
        {
          "output_type": "execute_result",
          "data": {
            "text/plain": [
              "-inf"
            ]
          },
          "metadata": {
            "tags": []
          },
          "execution_count": 10
        }
      ]
    },
    {
      "cell_type": "code",
      "metadata": {
        "school_cell_uuid": "3e564112200a45c097123f09688375a1",
        "id": "ym7PFOsM9-eE",
        "colab": {
          "base_uri": "https://localhost:8080/"
        },
        "outputId": "524732c0-f411-41bb-d33b-0c443b94c12a"
      },
      "source": [
        "np.exp(-np.inf)"
      ],
      "execution_count": 11,
      "outputs": [
        {
          "output_type": "execute_result",
          "data": {
            "text/plain": [
              "0.0"
            ]
          },
          "metadata": {
            "tags": []
          },
          "execution_count": 11
        }
      ]
    },
    {
      "cell_type": "markdown",
      "metadata": {
        "school_cell_uuid": "1cdcb42b3e724cff877530732ddf7d46",
        "id": "4AUPgt8h9-eF"
      },
      "source": [
        "## 배열 생성"
      ]
    },
    {
      "cell_type": "markdown",
      "metadata": {
        "school_cell_uuid": "42a8ae213d734409a35527275c0b4264",
        "id": "679_r2Ea9-eG"
      },
      "source": [
        "NumPy는 몇가지 단순한 배열을 생성하는 명령을 제공한다.\n",
        " \n",
        "* `zeros`, `ones`\n",
        "* `zeros_like`, `ones_like`\n",
        "* `empty`\n",
        "* `arange`\n",
        "* `linspace`, `logspace`"
      ]
    },
    {
      "cell_type": "markdown",
      "metadata": {
        "id": "uilvIHuY9-eH"
      },
      "source": [
        "```{margin}\n",
        "`zeros`\n",
        "```"
      ]
    },
    {
      "cell_type": "markdown",
      "metadata": {
        "school_cell_uuid": "7c79b2111e3e438eb66470e15acc0c78",
        "id": "FlAjtMfP9-eH"
      },
      "source": [
        "크기가 정해져 있고 모든 값이 0인 배열을 생성하려면 `zeros` 명령을 사용한다. 인수로는 배열을 크기를 뜻하는 정수를 넣는다."
      ]
    },
    {
      "cell_type": "code",
      "metadata": {
        "school_cell_uuid": "0450ddaee8694b2d8297b1b15035182b",
        "id": "GPvW_Q0p9-eI",
        "colab": {
          "base_uri": "https://localhost:8080/"
        },
        "outputId": "b61286f5-f81c-41e0-da8f-44179661c719"
      },
      "source": [
        "a = np.zeros(5)\n",
        "a"
      ],
      "execution_count": 12,
      "outputs": [
        {
          "output_type": "execute_result",
          "data": {
            "text/plain": [
              "array([0., 0., 0., 0., 0.])"
            ]
          },
          "metadata": {
            "tags": []
          },
          "execution_count": 12
        }
      ]
    },
    {
      "cell_type": "markdown",
      "metadata": {
        "school_cell_uuid": "128099e12e224f7daa7967d737681571",
        "id": "XP9xPoC49-eJ"
      },
      "source": [
        "크기를 뜻하는 튜플을 입력하면 다차원 배열도 만들 수 있다."
      ]
    },
    {
      "cell_type": "code",
      "metadata": {
        "school_cell_uuid": "4f578f16747a471aafb9094e27f897d9",
        "id": "4CcYu3o19-eJ",
        "colab": {
          "base_uri": "https://localhost:8080/"
        },
        "outputId": "a7cd6176-d836-4232-a660-7471f0299d69"
      },
      "source": [
        "b = np.zeros((2, 3))\n",
        "b"
      ],
      "execution_count": 13,
      "outputs": [
        {
          "output_type": "execute_result",
          "data": {
            "text/plain": [
              "array([[0., 0., 0.],\n",
              "       [0., 0., 0.]])"
            ]
          },
          "metadata": {
            "tags": []
          },
          "execution_count": 13
        }
      ]
    },
    {
      "cell_type": "markdown",
      "metadata": {
        "school_cell_uuid": "ff1a3dc84bd44470820a5c0b34e3b437",
        "id": "8e4k4m309-eK"
      },
      "source": [
        "`array` 명령과 마찬가지로 `dtype` 인수를 명시하면 해당 자료형 원소를 가진 배열을 만든다."
      ]
    },
    {
      "cell_type": "code",
      "metadata": {
        "school_cell_uuid": "0638b07330ae4cd48dc4b928b51c274e",
        "id": "NETD_fwg9-eK",
        "colab": {
          "base_uri": "https://localhost:8080/"
        },
        "outputId": "3a8badbb-bb81-48b0-ced8-14b8d891bc21"
      },
      "source": [
        "c = np.zeros((5, 2), dtype=\"i\")\n",
        "c"
      ],
      "execution_count": 14,
      "outputs": [
        {
          "output_type": "execute_result",
          "data": {
            "text/plain": [
              "array([[0, 0],\n",
              "       [0, 0],\n",
              "       [0, 0],\n",
              "       [0, 0],\n",
              "       [0, 0]], dtype=int32)"
            ]
          },
          "metadata": {
            "tags": []
          },
          "execution_count": 14
        }
      ]
    },
    {
      "cell_type": "markdown",
      "metadata": {
        "school_cell_uuid": "9c28797b1d2f4b228db15e34bcfa1593",
        "id": "wsK6S7SJ9-eN"
      },
      "source": [
        "문자열 배열도 가능하지면 모든 원소의 문자열 크기가 같아야 한다. 만약 더 큰 크기의 문자열을 할당하면 잘릴 수 있다."
      ]
    },
    {
      "cell_type": "code",
      "metadata": {
        "school_cell_uuid": "3650282440d34d588621f1034c8a6c85",
        "id": "K9mkHAP79-eO",
        "colab": {
          "base_uri": "https://localhost:8080/"
        },
        "outputId": "5b2ee5bf-5f7a-4318-b600-11a6cd1ab395"
      },
      "source": [
        "d = np.zeros(5, dtype=\"U4\")\n",
        "d"
      ],
      "execution_count": 15,
      "outputs": [
        {
          "output_type": "execute_result",
          "data": {
            "text/plain": [
              "array(['', '', '', '', ''], dtype='<U4')"
            ]
          },
          "metadata": {
            "tags": []
          },
          "execution_count": 15
        }
      ]
    },
    {
      "cell_type": "code",
      "metadata": {
        "school_cell_uuid": "4988c5b5d8cb4b249d89cf6f2bfd87de",
        "id": "2wM0J4pN9-eP",
        "colab": {
          "base_uri": "https://localhost:8080/"
        },
        "outputId": "b36639f2-2d3f-40f6-e70c-61fd3af4bab6"
      },
      "source": [
        "d[0] = \"abc\"\n",
        "d[1] = \"abcd\"\n",
        "d[2] = \"ABCDE\"\n",
        "d"
      ],
      "execution_count": 16,
      "outputs": [
        {
          "output_type": "execute_result",
          "data": {
            "text/plain": [
              "array(['abc', 'abcd', 'ABCD', '', ''], dtype='<U4')"
            ]
          },
          "metadata": {
            "tags": []
          },
          "execution_count": 16
        }
      ]
    },
    {
      "cell_type": "markdown",
      "metadata": {
        "id": "2ncTx9iB9-eQ"
      },
      "source": [
        "```{margin}\n",
        "`ones`\n",
        "```"
      ]
    },
    {
      "cell_type": "markdown",
      "metadata": {
        "school_cell_uuid": "278bf302cf734be6a097281158512c1e",
        "id": "OE87hcjK9-eQ"
      },
      "source": [
        "0이 아닌 1로 초기화된 배열을 생성하려면 `ones` 명령을 사용한다."
      ]
    },
    {
      "cell_type": "code",
      "metadata": {
        "school_cell_uuid": "3c4d0f3f2ff84ac39390ced7385db2d2",
        "id": "kvm3f6859-eR",
        "colab": {
          "base_uri": "https://localhost:8080/"
        },
        "outputId": "fc2d537f-3dfc-4eb9-c33f-afe0a61d9a68"
      },
      "source": [
        "e = np.ones((2, 3, 4), dtype=\"i8\")\n",
        "e"
      ],
      "execution_count": 17,
      "outputs": [
        {
          "output_type": "execute_result",
          "data": {
            "text/plain": [
              "array([[[1, 1, 1, 1],\n",
              "        [1, 1, 1, 1],\n",
              "        [1, 1, 1, 1]],\n",
              "\n",
              "       [[1, 1, 1, 1],\n",
              "        [1, 1, 1, 1],\n",
              "        [1, 1, 1, 1]]])"
            ]
          },
          "metadata": {
            "tags": []
          },
          "execution_count": 17
        }
      ]
    },
    {
      "cell_type": "markdown",
      "metadata": {
        "id": "ghEO1ApU9-eR"
      },
      "source": [
        "```{margin}\n",
        "`zeros_like`\n",
        "```"
      ]
    },
    {
      "cell_type": "markdown",
      "metadata": {
        "id": "au7AklZ-9-eS"
      },
      "source": [
        "```{margin}\n",
        "`ones_like`\n",
        "```"
      ]
    },
    {
      "cell_type": "markdown",
      "metadata": {
        "school_cell_uuid": "31a0e99a37ce4b04a48c1c6ab5d0722e",
        "id": "WIUCi7KS9-eS"
      },
      "source": [
        "만약 크기를 튜플로 명시하지 않고 다른 배열과 같은 크기의 배열을 생성하고 싶다면 `ones_like`, `zeros_like` 명령을 사용한다."
      ]
    },
    {
      "cell_type": "code",
      "metadata": {
        "school_cell_uuid": "27dc216486b1400e81701bf57a5bc3ec",
        "id": "UINu1jMO9-eT",
        "colab": {
          "base_uri": "https://localhost:8080/"
        },
        "outputId": "946e2eb4-9ded-45cf-e8ce-0ce827a10175"
      },
      "source": [
        "f = np.ones_like(b, dtype=\"f\")\n",
        "f"
      ],
      "execution_count": 18,
      "outputs": [
        {
          "output_type": "execute_result",
          "data": {
            "text/plain": [
              "array([[1., 1., 1.],\n",
              "       [1., 1., 1.]], dtype=float32)"
            ]
          },
          "metadata": {
            "tags": []
          },
          "execution_count": 18
        }
      ]
    },
    {
      "cell_type": "markdown",
      "metadata": {
        "id": "aFeq3HdC9-eT"
      },
      "source": [
        "```{margin}\n",
        "`empty`\n",
        "```"
      ]
    },
    {
      "cell_type": "markdown",
      "metadata": {
        "school_cell_uuid": "7c81a8dce91e4bcf9160223928d6f52f",
        "id": "CA-vShLb9-eV"
      },
      "source": [
        "배열의 크기가 커지면 배열을 초기화하는데도 시간이 걸린다. 이 시간을 단축하려면 배열을 생성만 하고 특정한 값으로 초기화를 하지 않는 `empty` 명령을 사용할 수 있다. `empty` 명령으로 생성된 배열에는 기존에 메모리에 저장되어 있던 값이 있으므로 배열의 원소의 값을 미리 알 수 없다."
      ]
    },
    {
      "cell_type": "code",
      "metadata": {
        "school_cell_uuid": "37614cdedd624fa28a0f54441845892a",
        "id": "4irTREgj9-eX",
        "colab": {
          "base_uri": "https://localhost:8080/"
        },
        "outputId": "de4cbaeb-adaa-4915-94aa-520ede39a886"
      },
      "source": [
        "g = np.empty((4, 3))\n",
        "g"
      ],
      "execution_count": 19,
      "outputs": [
        {
          "output_type": "execute_result",
          "data": {
            "text/plain": [
              "array([[1.41519215e-316, 6.79038653e-313, 2.37663529e-312],\n",
              "       [2.58883487e-312, 2.41907520e-312, 2.44029516e-312],\n",
              "       [8.48798317e-313, 9.33678148e-313, 1.08221785e-312],\n",
              "       [8.70018274e-313, 2.07955588e-312, 0.00000000e+000]])"
            ]
          },
          "metadata": {
            "tags": []
          },
          "execution_count": 19
        }
      ]
    },
    {
      "cell_type": "markdown",
      "metadata": {
        "id": "vQ9GUBGB9-eY"
      },
      "source": [
        "```{margin}\n",
        "`arange`\n",
        "```"
      ]
    },
    {
      "cell_type": "markdown",
      "metadata": {
        "school_cell_uuid": "269accf0732f43be8912260ceb0a6609",
        "id": "AiLsRUO59-eY"
      },
      "source": [
        "`arange` 명령은 NumPy 버전의 `range` 명령이라고 볼 수 있다. 특정한 규칙에 따라 증가하는 수열을 만든다. "
      ]
    },
    {
      "cell_type": "code",
      "metadata": {
        "school_cell_uuid": "b732c7a3553247be989a6e35d79fb83a",
        "id": "-TYvDnmP9-eZ",
        "colab": {
          "base_uri": "https://localhost:8080/"
        },
        "outputId": "450b3886-75d4-43e2-d13a-01e4ba8fff94"
      },
      "source": [
        "np.arange(10)  # 0 .. n-1"
      ],
      "execution_count": 20,
      "outputs": [
        {
          "output_type": "execute_result",
          "data": {
            "text/plain": [
              "array([0, 1, 2, 3, 4, 5, 6, 7, 8, 9])"
            ]
          },
          "metadata": {
            "tags": []
          },
          "execution_count": 20
        }
      ]
    },
    {
      "cell_type": "code",
      "metadata": {
        "school_cell_uuid": "d0cb5cefda834591987ce4dd5174644b",
        "id": "neLxzpeq9-ea",
        "colab": {
          "base_uri": "https://localhost:8080/"
        },
        "outputId": "22eed140-c1f2-4cce-87d9-7dd85ad7b34c"
      },
      "source": [
        "np.arange(3, 21, 2)  # 시작, 끝(포함하지 않음), 단계"
      ],
      "execution_count": 21,
      "outputs": [
        {
          "output_type": "execute_result",
          "data": {
            "text/plain": [
              "array([ 3,  5,  7,  9, 11, 13, 15, 17, 19])"
            ]
          },
          "metadata": {
            "tags": []
          },
          "execution_count": 21
        }
      ]
    },
    {
      "cell_type": "markdown",
      "metadata": {
        "id": "jqY2KsHk9-eb"
      },
      "source": [
        "```{margin}\n",
        "`linspace`\n",
        "```"
      ]
    },
    {
      "cell_type": "markdown",
      "metadata": {
        "id": "eF0jg9mG9-eb"
      },
      "source": [
        "```{margin}\n",
        "`logspace`\n",
        "```"
      ]
    },
    {
      "cell_type": "markdown",
      "metadata": {
        "school_cell_uuid": "4320ced2361c452286d820e0d3f8cbfc",
        "id": "_Y0Qpgtc9-ec"
      },
      "source": [
        "`linspace` 명령이나 `logspace` 명령은 선형 구간 혹은 로그 구간을 지정한 구간의 수만큼 분할한다."
      ]
    },
    {
      "cell_type": "code",
      "metadata": {
        "school_cell_uuid": "7e36ecf98ff347eda7659c2d5455b690",
        "id": "we-vQ1KV9-ec",
        "colab": {
          "base_uri": "https://localhost:8080/"
        },
        "outputId": "7f3797ad-5bf7-4e59-c03f-d62f4232a1f1"
      },
      "source": [
        "np.linspace(0, 100, 5)  # 시작, 끝(포함), 갯수"
      ],
      "execution_count": 22,
      "outputs": [
        {
          "output_type": "execute_result",
          "data": {
            "text/plain": [
              "array([  0.,  25.,  50.,  75., 100.])"
            ]
          },
          "metadata": {
            "tags": []
          },
          "execution_count": 22
        }
      ]
    },
    {
      "cell_type": "code",
      "metadata": {
        "id": "mnd9Bgy29-ed",
        "colab": {
          "base_uri": "https://localhost:8080/"
        },
        "outputId": "86e722b4-52e0-4bb6-b718-c21cb77ecd0f"
      },
      "source": [
        "np.logspace(0.1, 1, 10)"
      ],
      "execution_count": 23,
      "outputs": [
        {
          "output_type": "execute_result",
          "data": {
            "text/plain": [
              "array([ 1.25892541,  1.58489319,  1.99526231,  2.51188643,  3.16227766,\n",
              "        3.98107171,  5.01187234,  6.30957344,  7.94328235, 10.        ])"
            ]
          },
          "metadata": {
            "tags": []
          },
          "execution_count": 23
        }
      ]
    },
    {
      "cell_type": "markdown",
      "metadata": {
        "school_cell_uuid": "cb988d063cd840b68a59d818c9f9d05f",
        "id": "4lOc1a_R9-ee"
      },
      "source": [
        "## 전치 연산"
      ]
    },
    {
      "cell_type": "markdown",
      "metadata": {
        "id": "7nHurd-S9-ee"
      },
      "source": [
        "```{margin}\n",
        "`T`\n",
        "```"
      ]
    },
    {
      "cell_type": "markdown",
      "metadata": {
        "school_cell_uuid": "853b2b53a6bc44548ed80a81cde207e3",
        "id": "n-ddpWZk9-ef"
      },
      "source": [
        "2차원 배열의 전치(transpose) 연산은 행과 열을 바꾸는 작업이다. 이는 배열의 `T` 속성으로 구할 수 있다. 메서드가 아닌 속성이라는 점에 유의 한다."
      ]
    },
    {
      "cell_type": "code",
      "metadata": {
        "school_cell_uuid": "67ac6fc81b6c49a1854e86e7ed258cb0",
        "id": "TeLhgBCK9-eg",
        "colab": {
          "base_uri": "https://localhost:8080/"
        },
        "outputId": "abe4dd02-1adc-4fcb-ec94-55270a3d5d50"
      },
      "source": [
        "A = np.array([[1, 2, 3], [4, 5, 6]])\n",
        "A"
      ],
      "execution_count": 24,
      "outputs": [
        {
          "output_type": "execute_result",
          "data": {
            "text/plain": [
              "array([[1, 2, 3],\n",
              "       [4, 5, 6]])"
            ]
          },
          "metadata": {
            "tags": []
          },
          "execution_count": 24
        }
      ]
    },
    {
      "cell_type": "code",
      "metadata": {
        "school_cell_uuid": "bbf3f0afd4054d158fe959a3df08e254",
        "id": "VNFRGWHo9-eh",
        "colab": {
          "base_uri": "https://localhost:8080/"
        },
        "outputId": "3e3eb408-fbf1-42fd-8900-29ace5ba5131"
      },
      "source": [
        "A.T"
      ],
      "execution_count": 25,
      "outputs": [
        {
          "output_type": "execute_result",
          "data": {
            "text/plain": [
              "array([[1, 4],\n",
              "       [2, 5],\n",
              "       [3, 6]])"
            ]
          },
          "metadata": {
            "tags": []
          },
          "execution_count": 25
        }
      ]
    },
    {
      "cell_type": "markdown",
      "metadata": {
        "school_cell_uuid": "e051247ba49240a79a260dc42ea0eec8",
        "id": "wXiea4l_9-eh"
      },
      "source": [
        "## 배열의 크기 변형"
      ]
    },
    {
      "cell_type": "markdown",
      "metadata": {
        "id": "JZB8Yr3_9-ei"
      },
      "source": [
        "```{margin}\n",
        "`reshape`\n",
        "```"
      ]
    },
    {
      "cell_type": "markdown",
      "metadata": {
        "school_cell_uuid": "801fa3c18fae453084b3da2c5fb3f671",
        "id": "7lXhxMh-9-ei"
      },
      "source": [
        "일단 만들어진 배열의 내부 데이터는 보존한 채로 형태만 바꾸려면 `reshape` 명령이나 메서드를 사용한다. 예를 들어 12개의 원소를 가진 1차원 행렬은 3x4 형태의 2차원 행렬로 만들 수 있다."
      ]
    },
    {
      "cell_type": "code",
      "metadata": {
        "school_cell_uuid": "8b76f25bf4684e0b97520db76f09688e",
        "id": "kkMGGTmQ9-ej",
        "colab": {
          "base_uri": "https://localhost:8080/"
        },
        "outputId": "b437206e-c259-4d3f-c3ed-3f2988d29f37"
      },
      "source": [
        "a = np.arange(12)\n",
        "a"
      ],
      "execution_count": 26,
      "outputs": [
        {
          "output_type": "execute_result",
          "data": {
            "text/plain": [
              "array([ 0,  1,  2,  3,  4,  5,  6,  7,  8,  9, 10, 11])"
            ]
          },
          "metadata": {
            "tags": []
          },
          "execution_count": 26
        }
      ]
    },
    {
      "cell_type": "code",
      "metadata": {
        "school_cell_uuid": "0652bfe7847a4c1fa3bbcc77623598dc",
        "id": "3gCmEZle9-ej",
        "colab": {
          "base_uri": "https://localhost:8080/"
        },
        "outputId": "105777ff-8382-461a-9232-efbf17694bcb"
      },
      "source": [
        "b = a.reshape(3, 4)\n",
        "b"
      ],
      "execution_count": 27,
      "outputs": [
        {
          "output_type": "execute_result",
          "data": {
            "text/plain": [
              "array([[ 0,  1,  2,  3],\n",
              "       [ 4,  5,  6,  7],\n",
              "       [ 8,  9, 10, 11]])"
            ]
          },
          "metadata": {
            "tags": []
          },
          "execution_count": 27
        }
      ]
    },
    {
      "cell_type": "markdown",
      "metadata": {
        "school_cell_uuid": "6e46b05e869747b1ae07074efebe4597",
        "id": "J85PFvv69-ek"
      },
      "source": [
        "사용하는 원소의 갯수가 정해저 있기 때문에 `reshape` 명령의 형태 튜플의 원소 중 하나는 -1이라는 숫자로 대체할 수 있다. -1을 넣으면 해당 숫자는 다를 값에서 계산되어 사용된다."
      ]
    },
    {
      "cell_type": "code",
      "metadata": {
        "school_cell_uuid": "f04885d56e174f638ef35803c0057597",
        "id": "d4uf0MER9-el",
        "colab": {
          "base_uri": "https://localhost:8080/"
        },
        "outputId": "508a6e05-16e6-4497-956f-26f74bc21245"
      },
      "source": [
        "a.reshape(3, -1)"
      ],
      "execution_count": 28,
      "outputs": [
        {
          "output_type": "execute_result",
          "data": {
            "text/plain": [
              "array([[ 0,  1,  2,  3],\n",
              "       [ 4,  5,  6,  7],\n",
              "       [ 8,  9, 10, 11]])"
            ]
          },
          "metadata": {
            "tags": []
          },
          "execution_count": 28
        }
      ]
    },
    {
      "cell_type": "code",
      "metadata": {
        "school_cell_uuid": "81f66a4782c74011a5143a10cb21728b",
        "id": "LP_pA9vr9-el",
        "colab": {
          "base_uri": "https://localhost:8080/"
        },
        "outputId": "2a9fb02f-35fe-4e3c-dd18-aff603d11e72"
      },
      "source": [
        "a.reshape(2, 2, -1)"
      ],
      "execution_count": 29,
      "outputs": [
        {
          "output_type": "execute_result",
          "data": {
            "text/plain": [
              "array([[[ 0,  1,  2],\n",
              "        [ 3,  4,  5]],\n",
              "\n",
              "       [[ 6,  7,  8],\n",
              "        [ 9, 10, 11]]])"
            ]
          },
          "metadata": {
            "tags": []
          },
          "execution_count": 29
        }
      ]
    },
    {
      "cell_type": "code",
      "metadata": {
        "school_cell_uuid": "1aa82c72705f4adca24100997b321ec8",
        "id": "bIJVT3HT9-en",
        "colab": {
          "base_uri": "https://localhost:8080/"
        },
        "outputId": "c3402548-8df1-4769-dc5d-189bdada4459"
      },
      "source": [
        "a.reshape(2, -1, 2)"
      ],
      "execution_count": 30,
      "outputs": [
        {
          "output_type": "execute_result",
          "data": {
            "text/plain": [
              "array([[[ 0,  1],\n",
              "        [ 2,  3],\n",
              "        [ 4,  5]],\n",
              "\n",
              "       [[ 6,  7],\n",
              "        [ 8,  9],\n",
              "        [10, 11]]])"
            ]
          },
          "metadata": {
            "tags": []
          },
          "execution_count": 30
        }
      ]
    },
    {
      "cell_type": "markdown",
      "metadata": {
        "id": "ek8FD-tr9-en"
      },
      "source": [
        "```{margin}\n",
        "`flatten`\n",
        "```"
      ]
    },
    {
      "cell_type": "markdown",
      "metadata": {
        "id": "MrJtIpST9-eo"
      },
      "source": [
        "```{margin}\n",
        "`ravel`\n",
        "```"
      ]
    },
    {
      "cell_type": "markdown",
      "metadata": {
        "school_cell_uuid": "8c338a382a704ee8b4ecb1f14639b9a5",
        "id": "f93yWWHf9-ep"
      },
      "source": [
        "다차원 배열을 무조건 1차원으로 만들기 위해서는 `flatten` 나 `ravel` 메서드를 사용한다."
      ]
    },
    {
      "cell_type": "code",
      "metadata": {
        "school_cell_uuid": "da52ccdff6824783a9151e544f3910c4",
        "id": "R43RNRoP9-ep",
        "colab": {
          "base_uri": "https://localhost:8080/"
        },
        "outputId": "c477ce32-182f-46ec-b5dd-5e348c406c5d"
      },
      "source": [
        "a.flatten()"
      ],
      "execution_count": 31,
      "outputs": [
        {
          "output_type": "execute_result",
          "data": {
            "text/plain": [
              "array([ 0,  1,  2,  3,  4,  5,  6,  7,  8,  9, 10, 11])"
            ]
          },
          "metadata": {
            "tags": []
          },
          "execution_count": 31
        }
      ]
    },
    {
      "cell_type": "code",
      "metadata": {
        "id": "_HnP-LOB9-eq",
        "colab": {
          "base_uri": "https://localhost:8080/"
        },
        "outputId": "073a3526-02a6-42f1-ae9c-0d66b6cb81a1"
      },
      "source": [
        "a.ravel()"
      ],
      "execution_count": 32,
      "outputs": [
        {
          "output_type": "execute_result",
          "data": {
            "text/plain": [
              "array([ 0,  1,  2,  3,  4,  5,  6,  7,  8,  9, 10, 11])"
            ]
          },
          "metadata": {
            "tags": []
          },
          "execution_count": 32
        }
      ]
    },
    {
      "cell_type": "markdown",
      "metadata": {
        "school_cell_uuid": "7449061930ec4f969f45cfbb9f4d7827",
        "id": "C-sD4NsL9-eq"
      },
      "source": [
        "배열 사용에서 주의할 점은 길이가 5인 1차원 배열과 행, 열의 갯수가 (5,1)인 2차원 배열 또는 행, 열의 갯수가 (1, 5)인 2차원 배열은 데이터가 같아도 엄연히 다른 객체라는 점이다."
      ]
    },
    {
      "cell_type": "code",
      "metadata": {
        "school_cell_uuid": "32555d00be434211a940618642f9e2eb",
        "id": "wY274MvQ9-er",
        "colab": {
          "base_uri": "https://localhost:8080/"
        },
        "outputId": "18935b24-3eaf-4bab-b9c6-ee58cd3c211c"
      },
      "source": [
        "x = np.arange(5)\n",
        "x"
      ],
      "execution_count": 33,
      "outputs": [
        {
          "output_type": "execute_result",
          "data": {
            "text/plain": [
              "array([0, 1, 2, 3, 4])"
            ]
          },
          "metadata": {
            "tags": []
          },
          "execution_count": 33
        }
      ]
    },
    {
      "cell_type": "code",
      "metadata": {
        "school_cell_uuid": "efe31ebd189642e2a303e12e7c1a73d3",
        "id": "Jx-cJkh99-er",
        "colab": {
          "base_uri": "https://localhost:8080/"
        },
        "outputId": "59414fbf-d5b7-424b-94ac-68a964598d4a"
      },
      "source": [
        "x.reshape(1, 5)"
      ],
      "execution_count": 34,
      "outputs": [
        {
          "output_type": "execute_result",
          "data": {
            "text/plain": [
              "array([[0, 1, 2, 3, 4]])"
            ]
          },
          "metadata": {
            "tags": []
          },
          "execution_count": 34
        }
      ]
    },
    {
      "cell_type": "code",
      "metadata": {
        "school_cell_uuid": "efe31ebd189642e2a303e12e7c1a73d3",
        "id": "C83zIWhx9-es",
        "colab": {
          "base_uri": "https://localhost:8080/"
        },
        "outputId": "de53a24d-3473-493d-8dd5-92e7bc27ef3c"
      },
      "source": [
        "x.reshape(5, 1)"
      ],
      "execution_count": 35,
      "outputs": [
        {
          "output_type": "execute_result",
          "data": {
            "text/plain": [
              "array([[0],\n",
              "       [1],\n",
              "       [2],\n",
              "       [3],\n",
              "       [4]])"
            ]
          },
          "metadata": {
            "tags": []
          },
          "execution_count": 35
        }
      ]
    },
    {
      "cell_type": "markdown",
      "metadata": {
        "id": "PLOHqx7y9-es"
      },
      "source": [
        "```{margin}\n",
        "`newaxis`\n",
        "```"
      ]
    },
    {
      "cell_type": "markdown",
      "metadata": {
        "school_cell_uuid": "daed5b308d1042898d77660217a6a9b8",
        "id": "9hV0ThKc9-et"
      },
      "source": [
        "이렇게 같은 배열에 대해 차원만 1차원 증가시키는 경우에는 `newaxis` 명령을 사용하기도 한다."
      ]
    },
    {
      "cell_type": "code",
      "metadata": {
        "school_cell_uuid": "e612956a1722400091c08ba9bcc7bc6a",
        "id": "J86oFnx19-et",
        "colab": {
          "base_uri": "https://localhost:8080/"
        },
        "outputId": "439be6d3-a646-4da2-e819-ce8b7d61fabc"
      },
      "source": [
        "x[:, np.newaxis]"
      ],
      "execution_count": 36,
      "outputs": [
        {
          "output_type": "execute_result",
          "data": {
            "text/plain": [
              "array([[0],\n",
              "       [1],\n",
              "       [2],\n",
              "       [3],\n",
              "       [4]])"
            ]
          },
          "metadata": {
            "tags": []
          },
          "execution_count": 36
        }
      ]
    },
    {
      "cell_type": "markdown",
      "metadata": {
        "school_cell_uuid": "4b3e0edbc5e7492796eac84d7a5e2257",
        "id": "qjzTApIj9-eu"
      },
      "source": [
        "## 배열 연결"
      ]
    },
    {
      "cell_type": "markdown",
      "metadata": {
        "school_cell_uuid": "2af818f0ef1e42ffad476c9c4695274a",
        "id": "6eOiWZnt9-ev"
      },
      "source": [
        "행의 수나 열의 수가 같은 두 개 이상의 배열을 연결하여(concatenate) 더 큰 배열을 만들 때는 다음과 같은 명령을 사용한다.\n",
        "\n",
        "* `hstack`\n",
        "* `vstack`\n",
        "* `dstack`\n",
        "* `stack`\n",
        "* `r_`\n",
        "* `c_`\n",
        "* `tile`"
      ]
    },
    {
      "cell_type": "markdown",
      "metadata": {
        "id": "c1YrdZ_O9-ew"
      },
      "source": [
        "```{margin}\n",
        "`hstack`\n",
        "```"
      ]
    },
    {
      "cell_type": "markdown",
      "metadata": {
        "school_cell_uuid": "bf7a339a3dbf4c1888da5f1c65d0a4df",
        "id": "Rla4fhWY9-ew"
      },
      "source": [
        "`hstack` 명령은 행의 수가 같은 두 개 이상의 배열을 옆으로 연결하여 열의 수가 더 많은 배열을 만든다. 연결할 배열은 하나의 리스트에 담아야 한다."
      ]
    },
    {
      "cell_type": "code",
      "metadata": {
        "school_cell_uuid": "88a84a888e994a3bbf68e0430ac79860",
        "id": "PWkMps4w9-ex",
        "colab": {
          "base_uri": "https://localhost:8080/"
        },
        "outputId": "495eccff-a8b1-4aa7-fe12-6e539ab78ef6"
      },
      "source": [
        "a1 = np.ones((2, 3))\n",
        "a1"
      ],
      "execution_count": 37,
      "outputs": [
        {
          "output_type": "execute_result",
          "data": {
            "text/plain": [
              "array([[1., 1., 1.],\n",
              "       [1., 1., 1.]])"
            ]
          },
          "metadata": {
            "tags": []
          },
          "execution_count": 37
        }
      ]
    },
    {
      "cell_type": "code",
      "metadata": {
        "school_cell_uuid": "d8d4aadda3634cefb9c9f93248d28dec",
        "id": "ORm5cStG9-ex",
        "colab": {
          "base_uri": "https://localhost:8080/"
        },
        "outputId": "f54aa2b7-77c5-499d-c678-5995435f348d"
      },
      "source": [
        "a2 = np.zeros((2, 2))\n",
        "a2"
      ],
      "execution_count": 38,
      "outputs": [
        {
          "output_type": "execute_result",
          "data": {
            "text/plain": [
              "array([[0., 0.],\n",
              "       [0., 0.]])"
            ]
          },
          "metadata": {
            "tags": []
          },
          "execution_count": 38
        }
      ]
    },
    {
      "cell_type": "code",
      "metadata": {
        "school_cell_uuid": "55da73c949884fcdbb8a7244be95ecc3",
        "id": "2dTEcoWd9-ey",
        "colab": {
          "base_uri": "https://localhost:8080/"
        },
        "outputId": "f5953d3b-9df3-4593-e1df-061c8abb7fa5"
      },
      "source": [
        "np.hstack([a1, a2])"
      ],
      "execution_count": 39,
      "outputs": [
        {
          "output_type": "execute_result",
          "data": {
            "text/plain": [
              "array([[1., 1., 1., 0., 0.],\n",
              "       [1., 1., 1., 0., 0.]])"
            ]
          },
          "metadata": {
            "tags": []
          },
          "execution_count": 39
        }
      ]
    },
    {
      "cell_type": "markdown",
      "metadata": {
        "id": "gU2Zah7o9-ez"
      },
      "source": [
        "```{margin}\n",
        "`vstack`\n",
        "```"
      ]
    },
    {
      "cell_type": "markdown",
      "metadata": {
        "school_cell_uuid": "45b042132e8242ee83a82ea8b76ae52e",
        "id": "F6WKgHt-9-e0"
      },
      "source": [
        "`vstack` 명령은 열의 수가 같은 두 개 이상의 배열을 위아래로 연결하여 행의 수가 더 많은 배열을 만든다. 연결할 배열은 마찬가지로 하나의 리스트에 담아야 한다."
      ]
    },
    {
      "cell_type": "code",
      "metadata": {
        "school_cell_uuid": "9a90c72a781a446eab015b05d0521cd5",
        "id": "alB4RTB_9-e0",
        "colab": {
          "base_uri": "https://localhost:8080/"
        },
        "outputId": "083ff807-152b-413c-9110-1a06e0b5f54e"
      },
      "source": [
        "b1 = np.ones((2, 3))\n",
        "b1"
      ],
      "execution_count": 40,
      "outputs": [
        {
          "output_type": "execute_result",
          "data": {
            "text/plain": [
              "array([[1., 1., 1.],\n",
              "       [1., 1., 1.]])"
            ]
          },
          "metadata": {
            "tags": []
          },
          "execution_count": 40
        }
      ]
    },
    {
      "cell_type": "code",
      "metadata": {
        "school_cell_uuid": "087a1f7e8cd74acc95060ebd02261437",
        "id": "h1b5cxt09-e1",
        "colab": {
          "base_uri": "https://localhost:8080/"
        },
        "outputId": "265c4bae-bdfc-423b-c637-7ce2be03bab8"
      },
      "source": [
        "b2 = np.zeros((3, 3))\n",
        "b2"
      ],
      "execution_count": 41,
      "outputs": [
        {
          "output_type": "execute_result",
          "data": {
            "text/plain": [
              "array([[0., 0., 0.],\n",
              "       [0., 0., 0.],\n",
              "       [0., 0., 0.]])"
            ]
          },
          "metadata": {
            "tags": []
          },
          "execution_count": 41
        }
      ]
    },
    {
      "cell_type": "code",
      "metadata": {
        "school_cell_uuid": "30bccce9ef044067b14d7bd6ee5179da",
        "id": "-0vxotW19-e1",
        "colab": {
          "base_uri": "https://localhost:8080/"
        },
        "outputId": "fb4f6b7c-c3e8-49d8-ea20-bc7c963ff20d"
      },
      "source": [
        "np.vstack([b1, b2])"
      ],
      "execution_count": 42,
      "outputs": [
        {
          "output_type": "execute_result",
          "data": {
            "text/plain": [
              "array([[1., 1., 1.],\n",
              "       [1., 1., 1.],\n",
              "       [0., 0., 0.],\n",
              "       [0., 0., 0.],\n",
              "       [0., 0., 0.]])"
            ]
          },
          "metadata": {
            "tags": []
          },
          "execution_count": 42
        }
      ]
    },
    {
      "cell_type": "markdown",
      "metadata": {
        "id": "52HJU4QC9-e2"
      },
      "source": [
        "```{margin}\n",
        "`dstack`\n",
        "```"
      ]
    },
    {
      "cell_type": "markdown",
      "metadata": {
        "school_cell_uuid": "a95f8e68c8954378a6bfa672e632fce0",
        "id": "mIxac64R9-e2"
      },
      "source": [
        "`dstack` 명령은 제3의 축 즉, 행이나 열이 아닌 깊이(depth) 방향으로 배열을 합친다. 가장 안쪽의 원소의 차원이 증가한다. 즉 가장 내부의 숫자 원소가 배열이 된다. shape 정보로 보자면 가장 끝에 값이 2인 차원이 추가되는 것이다.이 예제의 경우에는 shape 변화가 2개의 (3 x 4) -> 1개의 (3 x 4 x **2**)가 된다."
      ]
    },
    {
      "cell_type": "code",
      "metadata": {
        "school_cell_uuid": "27186ffea90b42c1b35559f4ffb8c262",
        "id": "Q24hGt-X9-e4",
        "colab": {
          "base_uri": "https://localhost:8080/"
        },
        "outputId": "717b3c25-5895-477d-92a8-7e8b91c2f03b"
      },
      "source": [
        "c1 = np.ones((3, 4))\n",
        "c1"
      ],
      "execution_count": 43,
      "outputs": [
        {
          "output_type": "execute_result",
          "data": {
            "text/plain": [
              "array([[1., 1., 1., 1.],\n",
              "       [1., 1., 1., 1.],\n",
              "       [1., 1., 1., 1.]])"
            ]
          },
          "metadata": {
            "tags": []
          },
          "execution_count": 43
        }
      ]
    },
    {
      "cell_type": "code",
      "metadata": {
        "school_cell_uuid": "ea73e674615a4adab9381f357c7c98f8",
        "id": "JuR8OukX9-e6",
        "colab": {
          "base_uri": "https://localhost:8080/"
        },
        "outputId": "2cb771b5-2586-4792-934d-ce798fe62e51"
      },
      "source": [
        "c2 = np.zeros((3, 4))\n",
        "c2"
      ],
      "execution_count": 44,
      "outputs": [
        {
          "output_type": "execute_result",
          "data": {
            "text/plain": [
              "array([[0., 0., 0., 0.],\n",
              "       [0., 0., 0., 0.],\n",
              "       [0., 0., 0., 0.]])"
            ]
          },
          "metadata": {
            "tags": []
          },
          "execution_count": 44
        }
      ]
    },
    {
      "cell_type": "code",
      "metadata": {
        "school_cell_uuid": "0978be1cd9d44954a83e9e132be02c42",
        "id": "ZRmXSyxo9-e6",
        "colab": {
          "base_uri": "https://localhost:8080/"
        },
        "outputId": "e9eef1b0-04b0-4b46-bf44-5d3de836f8a0"
      },
      "source": [
        "np.dstack([c1, c2])"
      ],
      "execution_count": 45,
      "outputs": [
        {
          "output_type": "execute_result",
          "data": {
            "text/plain": [
              "array([[[1., 0.],\n",
              "        [1., 0.],\n",
              "        [1., 0.],\n",
              "        [1., 0.]],\n",
              "\n",
              "       [[1., 0.],\n",
              "        [1., 0.],\n",
              "        [1., 0.],\n",
              "        [1., 0.]],\n",
              "\n",
              "       [[1., 0.],\n",
              "        [1., 0.],\n",
              "        [1., 0.],\n",
              "        [1., 0.]]])"
            ]
          },
          "metadata": {
            "tags": []
          },
          "execution_count": 45
        }
      ]
    },
    {
      "cell_type": "code",
      "metadata": {
        "school_cell_uuid": "f9238b1bdcb54f41b622a9a478f89fa0",
        "id": "ymfGQ7789-e7",
        "colab": {
          "base_uri": "https://localhost:8080/"
        },
        "outputId": "0b72a1b1-d1f2-4482-eac6-68b46e88df32"
      },
      "source": [
        "(np.dstack([c1, c2])).shape"
      ],
      "execution_count": 46,
      "outputs": [
        {
          "output_type": "execute_result",
          "data": {
            "text/plain": [
              "(3, 4, 2)"
            ]
          },
          "metadata": {
            "tags": []
          },
          "execution_count": 46
        }
      ]
    },
    {
      "cell_type": "markdown",
      "metadata": {
        "id": "TBHbd0gU9-e8"
      },
      "source": [
        "```{margin}\n",
        "`stack`\n",
        "```"
      ]
    },
    {
      "cell_type": "markdown",
      "metadata": {
        "school_cell_uuid": "6e5f1e0e45f94e95ad2e05ff4f172c69",
        "id": "xFqiQCK99-e9"
      },
      "source": [
        "`stack` 명령은 `dstack`의 기능을 확장한 것으로 `dstack`처럼 마지막 차원으로 연결하는 것이 아니라 **사용자가 지정한 차원(축으로) 배열을 연결**한다. `axis` 인수(디폴트 0)를 사용하여 연결후의 회전 방향을 정한다. 디폴트 인수값은 0이고 가장 앞쪽에 차원이 생성된다. 즉, 배열 두 개가 겹치게 되므로 연결하고자 하는 배열들의 크기가 모두 같아야 한다. \n",
        "\n",
        "다음 예에서는 `axis`=0 이므로 가장 바깥에 값이 2인 차원이 추가된다. 즉, shape 변화는 2개의 (3 x 4) -> 1개의 (**2** x 3 x 4) 이다.."
      ]
    },
    {
      "cell_type": "code",
      "metadata": {
        "school_cell_uuid": "564cc3e527fb4afeafe8b9d091e5fd22",
        "id": "cYpx3s7A9-e-",
        "colab": {
          "base_uri": "https://localhost:8080/"
        },
        "outputId": "31314118-5497-4908-95d5-558dcafee5cf"
      },
      "source": [
        "c = np.stack([c1, c2])\n",
        "c"
      ],
      "execution_count": 47,
      "outputs": [
        {
          "output_type": "execute_result",
          "data": {
            "text/plain": [
              "array([[[1., 1., 1., 1.],\n",
              "        [1., 1., 1., 1.],\n",
              "        [1., 1., 1., 1.]],\n",
              "\n",
              "       [[0., 0., 0., 0.],\n",
              "        [0., 0., 0., 0.],\n",
              "        [0., 0., 0., 0.]]])"
            ]
          },
          "metadata": {
            "tags": []
          },
          "execution_count": 47
        }
      ]
    },
    {
      "cell_type": "code",
      "metadata": {
        "school_cell_uuid": "97b1f59e6c47453bbdfe416e01575868",
        "id": "0HvkGdyS9-e-",
        "colab": {
          "base_uri": "https://localhost:8080/"
        },
        "outputId": "c282803f-52ef-4674-c544-c96718903516"
      },
      "source": [
        "c.shape"
      ],
      "execution_count": 48,
      "outputs": [
        {
          "output_type": "execute_result",
          "data": {
            "text/plain": [
              "(2, 3, 4)"
            ]
          },
          "metadata": {
            "tags": []
          },
          "execution_count": 48
        }
      ]
    },
    {
      "cell_type": "markdown",
      "metadata": {
        "school_cell_uuid": "a0c4da583b854d0b8b8d99803ab2aba2",
        "id": "AQPYhj6t9-e_"
      },
      "source": [
        "`axis` 인수가 1이면 두번째 차원으로 새로운 차원이 삽입된다. 다음 예에서 즉, shape 변화는 2개의 (3 x 4) -> 1개의 (3 x **2** x 4) 이다"
      ]
    },
    {
      "cell_type": "code",
      "metadata": {
        "school_cell_uuid": "bd36c52ba54e4effa63767b54b403c37",
        "scrolled": true,
        "id": "Uh9FHs3x9-fA",
        "colab": {
          "base_uri": "https://localhost:8080/"
        },
        "outputId": "d4eb9ef2-f011-4177-ddc4-11a65ac5bfc9"
      },
      "source": [
        "c = np.stack([c1, c2], axis=1)\n",
        "c"
      ],
      "execution_count": 49,
      "outputs": [
        {
          "output_type": "execute_result",
          "data": {
            "text/plain": [
              "array([[[1., 1., 1., 1.],\n",
              "        [0., 0., 0., 0.]],\n",
              "\n",
              "       [[1., 1., 1., 1.],\n",
              "        [0., 0., 0., 0.]],\n",
              "\n",
              "       [[1., 1., 1., 1.],\n",
              "        [0., 0., 0., 0.]]])"
            ]
          },
          "metadata": {
            "tags": []
          },
          "execution_count": 49
        }
      ]
    },
    {
      "cell_type": "code",
      "metadata": {
        "school_cell_uuid": "60dde750853a4cdd82f38b2bc4990215",
        "id": "78edM_pI9-fB",
        "colab": {
          "base_uri": "https://localhost:8080/"
        },
        "outputId": "9cb2a50b-13f2-4529-cb09-8661c4da57d4"
      },
      "source": [
        "c.shape"
      ],
      "execution_count": 50,
      "outputs": [
        {
          "output_type": "execute_result",
          "data": {
            "text/plain": [
              "(3, 2, 4)"
            ]
          },
          "metadata": {
            "tags": []
          },
          "execution_count": 50
        }
      ]
    },
    {
      "cell_type": "markdown",
      "metadata": {
        "bootstrap": {
          "panel": {
            "class": "panel-default"
          }
        },
        "school_cell_uuid": "13b232d1b9fc4a818706fce49816d44c",
        "id": "VI-YkhhH9-fK"
      },
      "source": [
        "**<스스로> 연습 문제**\n",
        "\n",
        "````{admonition} 연습 문제 3.2.1\n",
        "\n",
        "지금까지 공부한 명령어를 사용하여 다음과 같은 배열을 만들어라.\n",
        "\n",
        "```\n",
        "array([[   0.,    0.,    0.,    1.,    1.],\n",
        "       [   0.,    0.,    0.,    1.,    1.],\n",
        "       [   0.,    0.,    0.,    1.,    1.],\n",
        "       [  10.,   20.,   30.,   40.,   50.],\n",
        "       [  60.,   70.,   80.,   90.,  100.],\n",
        "       [ 110.,  120.,  130.,  140.,  150.],\n",
        "       [   0.,    0.,    0.,    1.,    1.],\n",
        "       [   0.,    0.,    0.,    1.,    1.],\n",
        "       [   0.,    0.,    0.,    1.,    1.],\n",
        "       [  10.,   20.,   30.,   40.,   50.],\n",
        "       [  60.,   70.,   80.,   90.,  100.],\n",
        "       [ 110.,  120.,  130.,  140.,  150.]])\n",
        "```\n",
        "````"
      ]
    },
    {
      "cell_type": "code",
      "metadata": {
        "colab": {
          "base_uri": "https://localhost:8080/"
        },
        "id": "ONlNjY5DAu64",
        "outputId": "38c88c0a-bbfa-467d-f774-04b3018e4148"
      },
      "source": [
        "a = np.hstack((np.zeros((3, 3)), np.ones((3, 2))))\r\n",
        "b = np.linspace(10, 150, 3 * 5).reshape((3, 5))\r\n",
        "\r\n",
        "result = np.tile(np.vstack((a, b)).T, 2).T\r\n",
        "result"
      ],
      "execution_count": 54,
      "outputs": [
        {
          "output_type": "execute_result",
          "data": {
            "text/plain": [
              "array([[  0.,   0.,   0.,   1.,   1.],\n",
              "       [  0.,   0.,   0.,   1.,   1.],\n",
              "       [  0.,   0.,   0.,   1.,   1.],\n",
              "       [ 10.,  20.,  30.,  40.,  50.],\n",
              "       [ 60.,  70.,  80.,  90., 100.],\n",
              "       [110., 120., 130., 140., 150.],\n",
              "       [  0.,   0.,   0.,   1.,   1.],\n",
              "       [  0.,   0.,   0.,   1.,   1.],\n",
              "       [  0.,   0.,   0.,   1.,   1.],\n",
              "       [ 10.,  20.,  30.,  40.,  50.],\n",
              "       [ 60.,  70.,  80.,  90., 100.],\n",
              "       [110., 120., 130., 140., 150.]])"
            ]
          },
          "metadata": {
            "tags": []
          },
          "execution_count": 54
        }
      ]
    },
    {
      "cell_type": "markdown",
      "metadata": {
        "school_cell_uuid": "5465714ae41645b6a226efc93dd02611",
        "id": "-lX2T-Mv9-fL"
      },
      "source": [
        "## 2차원 그리드 포인트 생성"
      ]
    },
    {
      "cell_type": "markdown",
      "metadata": {
        "school_cell_uuid": "75adf0b409f642cda6d64fdbf9e49ce1",
        "id": "IFGh-WNq9-fM"
      },
      "source": [
        "변수가 2개인 2차원 함수의 그래프를 그리거나 표를 작성하려면 2차원 영역에 대한 (x,y) 좌표값 쌍 즉, 그리드 포인트(grid point)를 생성하여 각 좌표에 대한 함수 값을 계산해야 한다. 예를 들어 x, y 라는 두 변수를 가진 함수에서 x가 0부터 2까지, y가 0부터 4까지의 사각형 영역에서 변화하는 과정을 보고 싶다면 이 사각형 영역 안의 다음과 같은 그리드 포인트들에 대해 함수를 계산해야 한다. \n",
        "\n",
        "$$ (x,y) = (0,0), (0,1), (0,2), (0,3), (0,4), (1,0), \\cdots (2,4) $$"
      ]
    },
    {
      "cell_type": "markdown",
      "metadata": {
        "id": "wiGGIQk89-fM"
      },
      "source": [
        "```{margin}\n",
        "`meshgrid`\n",
        "```"
      ]
    },
    {
      "cell_type": "markdown",
      "metadata": {
        "id": "sQEyU4sI9-fN"
      },
      "source": [
        "이러한 그리드 포인트를 만드는 과정을 도와주는 것이 `meshgrid` 명령이다. `meshgrid` 명령은 **사각형 영역을 구성하는 가로축의 점들과 세로축의 점을 나타내는 두 벡터를 인수로 받아서 이 사각형 영역을 이루는 조합을 출력**한다. 결과는 그리드 포인트의 x 값만을 표시하는 행렬과 y 값만을 표시하는 행렬 두 개로 분리하여 출력한다."
      ]
    },
    {
      "cell_type": "code",
      "metadata": {
        "school_cell_uuid": "8d387a1bc14e41c5b9adf44f74afaba6",
        "id": "r4ts_Lum9-fN",
        "colab": {
          "base_uri": "https://localhost:8080/"
        },
        "outputId": "8525fb5b-be5e-46d7-cf11-93a4b739950a"
      },
      "source": [
        "x = np.arange(3)\n",
        "x"
      ],
      "execution_count": 55,
      "outputs": [
        {
          "output_type": "execute_result",
          "data": {
            "text/plain": [
              "array([0, 1, 2])"
            ]
          },
          "metadata": {
            "tags": []
          },
          "execution_count": 55
        }
      ]
    },
    {
      "cell_type": "code",
      "metadata": {
        "school_cell_uuid": "9d7b6a3b179e43d582c3702152493a93",
        "id": "KrtoSdjw9-fO",
        "colab": {
          "base_uri": "https://localhost:8080/"
        },
        "outputId": "04d2a1d8-2e05-483f-d12c-aef88aa56ff4"
      },
      "source": [
        "y = np.arange(5)\n",
        "y"
      ],
      "execution_count": 56,
      "outputs": [
        {
          "output_type": "execute_result",
          "data": {
            "text/plain": [
              "array([0, 1, 2, 3, 4])"
            ]
          },
          "metadata": {
            "tags": []
          },
          "execution_count": 56
        }
      ]
    },
    {
      "cell_type": "code",
      "metadata": {
        "school_cell_uuid": "ca8b7103ddfa4f45bfbb401dcf9ccfe3",
        "id": "oAdDhuWN9-fP"
      },
      "source": [
        "X, Y = np.meshgrid(x, y)"
      ],
      "execution_count": 57,
      "outputs": []
    },
    {
      "cell_type": "code",
      "metadata": {
        "school_cell_uuid": "55aea931e469439ba1cfb19bc0112883",
        "id": "2QbABOwL9-fQ",
        "colab": {
          "base_uri": "https://localhost:8080/"
        },
        "outputId": "9de76378-ae3b-40d7-9fe1-66aa8bca6899"
      },
      "source": [
        "X"
      ],
      "execution_count": 58,
      "outputs": [
        {
          "output_type": "execute_result",
          "data": {
            "text/plain": [
              "array([[0, 1, 2],\n",
              "       [0, 1, 2],\n",
              "       [0, 1, 2],\n",
              "       [0, 1, 2],\n",
              "       [0, 1, 2]])"
            ]
          },
          "metadata": {
            "tags": []
          },
          "execution_count": 58
        }
      ]
    },
    {
      "cell_type": "code",
      "metadata": {
        "school_cell_uuid": "8e47bd26749d472386486f92dcb16b3e",
        "id": "GCgDPz0e9-fR",
        "colab": {
          "base_uri": "https://localhost:8080/"
        },
        "outputId": "01853a81-d673-42a5-987d-b2c9dd1ef983"
      },
      "source": [
        "Y"
      ],
      "execution_count": 59,
      "outputs": [
        {
          "output_type": "execute_result",
          "data": {
            "text/plain": [
              "array([[0, 0, 0],\n",
              "       [1, 1, 1],\n",
              "       [2, 2, 2],\n",
              "       [3, 3, 3],\n",
              "       [4, 4, 4]])"
            ]
          },
          "metadata": {
            "tags": []
          },
          "execution_count": 59
        }
      ]
    },
    {
      "cell_type": "code",
      "metadata": {
        "school_cell_uuid": "f0ff0762ce1345569d860643683e14e4",
        "id": "ddPhxYKy9-fS",
        "colab": {
          "base_uri": "https://localhost:8080/"
        },
        "outputId": "f167da32-340c-40a1-dfb0-1f3b2ea6d195"
      },
      "source": [
        "[list(zip(x, y)) for x, y in zip(X, Y)]"
      ],
      "execution_count": 60,
      "outputs": [
        {
          "output_type": "execute_result",
          "data": {
            "text/plain": [
              "[[(0, 0), (1, 0), (2, 0)],\n",
              " [(0, 1), (1, 1), (2, 1)],\n",
              " [(0, 2), (1, 2), (2, 2)],\n",
              " [(0, 3), (1, 3), (2, 3)],\n",
              " [(0, 4), (1, 4), (2, 4)]]"
            ]
          },
          "metadata": {
            "tags": []
          },
          "execution_count": 60
        }
      ]
    }
  ]
}