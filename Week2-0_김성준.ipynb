{
  "nbformat": 4,
  "nbformat_minor": 0,
  "metadata": {
    "colab": {
      "name": "Week2-0_김성준.ipynb",
      "provenance": [],
      "toc_visible": true,
      "include_colab_link": true
    },
    "kernelspec": {
      "name": "python3",
      "display_name": "Python 3"
    }
  },
  "cells": [
    {
      "cell_type": "markdown",
      "metadata": {
        "id": "view-in-github",
        "colab_type": "text"
      },
      "source": [
        "<a href=\"https://colab.research.google.com/github/sjkim1220/datascience/blob/master/Week2-0_%EA%B9%80%EC%84%B1%EC%A4%80.ipynb\" target=\"_parent\"><img src=\"https://colab.research.google.com/assets/colab-badge.svg\" alt=\"Open In Colab\"/></a>"
      ]
    },
    {
      "cell_type": "markdown",
      "metadata": {
        "id": "Jh2el3OANd8Z"
      },
      "source": [
        "**7. 람다(lambda) 함수**\r\n",
        "- 익명함수(Anonymous Function)\r\n",
        "- 함수 정의를 한 줄로 생략하는 방식"
      ]
    },
    {
      "cell_type": "code",
      "metadata": {
        "id": "BvKJeMBHNhI0"
      },
      "source": [
        "A =lambda x : x*2\r\n",
        "A(5) #10 값\r\n",
        "\r\n",
        "def lamb(x):\r\n",
        "  return x*2"
      ],
      "execution_count": null,
      "outputs": []
    },
    {
      "cell_type": "code",
      "metadata": {
        "id": "0C79zrtsQcnF",
        "colab": {
          "base_uri": "https://localhost:8080/"
        },
        "outputId": "552a005b-1d85-45e2-b05a-9bff8bb3a7a0"
      },
      "source": [
        "F = lambda n : F(n-1) + F(n-2) if n > 2 else 1\r\n",
        "R = [F(n) for n in range(1,10)]\r\n",
        "print(R) #[1, 1, 2, 3, 5, 8, 13, 21, 34]"
      ],
      "execution_count": null,
      "outputs": [
        {
          "output_type": "stream",
          "text": [
            "[1, 1, 2, 3, 5, 8, 13, 21, 34]\n"
          ],
          "name": "stdout"
        }
      ]
    },
    {
      "cell_type": "code",
      "metadata": {
        "id": "eYPsgVaBQ71_",
        "colab": {
          "base_uri": "https://localhost:8080/"
        },
        "outputId": "bdcad6f8-fc6a-43f0-dd97-6f10b6c2b07a"
      },
      "source": [
        "A = lambda x : x * 2\r\n",
        "B = lambda x : x * 3\r\n",
        "C = lambda x : x * 4\r\n",
        "D = lambda x : x * 5\r\n",
        "\r\n",
        "L = [A,B,C,D]\r\n",
        "\r\n",
        "for f in L:\r\n",
        "  print(f(2))"
      ],
      "execution_count": null,
      "outputs": [
        {
          "output_type": "stream",
          "text": [
            "4\n",
            "6\n",
            "8\n",
            "10\n"
          ],
          "name": "stdout"
        }
      ]
    },
    {
      "cell_type": "code",
      "metadata": {
        "id": "4DGzMdEWRPLc",
        "colab": {
          "base_uri": "https://localhost:8080/"
        },
        "outputId": "de3aed38-86aa-4c1e-c726-36f9df0a8ca3"
      },
      "source": [
        "F = lambda n : [f(n) for f in L]\r\n",
        "F(2)"
      ],
      "execution_count": null,
      "outputs": [
        {
          "output_type": "execute_result",
          "data": {
            "text/plain": [
              "[4, 6, 8, 10]"
            ]
          },
          "metadata": {
            "tags": []
          },
          "execution_count": 5
        }
      ]
    },
    {
      "cell_type": "markdown",
      "metadata": {
        "id": "JyeOM6MxROcc"
      },
      "source": [
        "- <스스로>48페이지 예제 해보기"
      ]
    },
    {
      "cell_type": "markdown",
      "metadata": {
        "id": "Bz_p6rPdTD2K"
      },
      "source": [
        "**8. \\***args 와 \\****kwargs 이용한 람다**\r\n",
        "- *args 표현식  \r\n",
        ": 함수의 매개변수 * 문자는 임의의 복수의 매개변수가 오는 것으로 정의\r\n",
        "- ***kwargs 표현식  \r\n",
        ": 함수의 매개변수에 ** 문자는 임의의 key=value 형태의 복수의 매개변수가 오는 것으로 정의\r\n"
      ]
    },
    {
      "cell_type": "code",
      "metadata": {
        "id": "kmOsR7JMTx-_",
        "colab": {
          "base_uri": "https://localhost:8080/",
          "height": 35
        },
        "outputId": "23469675-7286-41d4-c49c-c92b9b842d77"
      },
      "source": [
        "F = lambda * x : ''.join(x) # 문자열을 붙여주는 함수\r\n",
        "F('파이썬', '코딩', '쉽네') # '파이썬코딩쉽네'"
      ],
      "execution_count": null,
      "outputs": [
        {
          "output_type": "execute_result",
          "data": {
            "application/vnd.google.colaboratory.intrinsic+json": {
              "type": "string"
            },
            "text/plain": [
              "'파이썬코딩쉽네'"
            ]
          },
          "metadata": {
            "tags": []
          },
          "execution_count": 8
        }
      ]
    },
    {
      "cell_type": "code",
      "metadata": {
        "id": "krOjP8OZUBT-",
        "colab": {
          "base_uri": "https://localhost:8080/"
        },
        "outputId": "b3dd1166-e4fb-47e6-9255-5cc70d87b13b"
      },
      "source": [
        "F = lambda **x : [(v,k) for k, v in x.items()] #key, value를 서로 바꿔서 dictionary 생성\r\n",
        "D = F(A='파이썬', B='코딩', C='쉽네') #dict 생성 (A, '파이썬') -> ('파이썬', A)\r\n",
        "print(D)\r\n",
        "\r\n",
        "D = dict(D)\r\n",
        "print(D['파이썬'])\r\n"
      ],
      "execution_count": null,
      "outputs": [
        {
          "output_type": "stream",
          "text": [
            "[('파이썬', 'A'), ('코딩', 'B'), ('쉽네', 'C')]\n",
            "A\n"
          ],
          "name": "stdout"
        }
      ]
    },
    {
      "cell_type": "markdown",
      "metadata": {
        "id": "SrhsIPhUXGi_"
      },
      "source": [
        "\r\n",
        "\r\n",
        "---\r\n",
        "\r\n"
      ]
    },
    {
      "cell_type": "code",
      "metadata": {
        "id": "seFUZvfQWVXB"
      },
      "source": [
        "F = lambda **x : sum(x['data']) if 'type' in x and x['type'] == 'sum' else 0"
      ],
      "execution_count": null,
      "outputs": []
    },
    {
      "cell_type": "code",
      "metadata": {
        "id": "b4dtmR0nWgYC",
        "colab": {
          "base_uri": "https://localhost:8080/"
        },
        "outputId": "b7056397-65b3-4e58-87d2-a1dcbcee0cfc"
      },
      "source": [
        "F(type='sum', data=[1,2,3,4])"
      ],
      "execution_count": null,
      "outputs": [
        {
          "output_type": "execute_result",
          "data": {
            "text/plain": [
              "10"
            ]
          },
          "metadata": {
            "tags": []
          },
          "execution_count": 11
        }
      ]
    },
    {
      "cell_type": "code",
      "metadata": {
        "id": "Otxl5b5bW8d9",
        "colab": {
          "base_uri": "https://localhost:8080/"
        },
        "outputId": "7c21a3b8-f9b4-42d4-c273-f12a166f91ae"
      },
      "source": [
        "F(data=[1,2,3,4,5])"
      ],
      "execution_count": null,
      "outputs": [
        {
          "output_type": "execute_result",
          "data": {
            "text/plain": [
              "0"
            ]
          },
          "metadata": {
            "tags": []
          },
          "execution_count": 12
        }
      ]
    },
    {
      "cell_type": "code",
      "metadata": {
        "id": "3kYxqB_kW-SZ",
        "colab": {
          "base_uri": "https://localhost:8080/"
        },
        "outputId": "794a2f36-5c4c-4a8f-f539-e721de068ba8"
      },
      "source": [
        "F(type='mul', data=[1,2,3,4,5])"
      ],
      "execution_count": null,
      "outputs": [
        {
          "output_type": "execute_result",
          "data": {
            "text/plain": [
              "0"
            ]
          },
          "metadata": {
            "tags": []
          },
          "execution_count": 13
        }
      ]
    },
    {
      "cell_type": "markdown",
      "metadata": {
        "id": "x8-FAeaaXI-V"
      },
      "source": [
        "**9. 파일 입출력**"
      ]
    },
    {
      "cell_type": "markdown",
      "metadata": {
        "id": "OLHXVRBwXV5m"
      },
      "source": [
        "- student 파일 읽기 예제"
      ]
    },
    {
      "cell_type": "code",
      "metadata": {
        "id": "8Cc95F4jlAYX",
        "colab": {
          "base_uri": "https://localhost:8080/",
          "height": 35
        },
        "outputId": "a1f2d578-1726-4f55-d53e-d20a2a0f2263"
      },
      "source": [
        "pwd"
      ],
      "execution_count": null,
      "outputs": [
        {
          "output_type": "execute_result",
          "data": {
            "application/vnd.google.colaboratory.intrinsic+json": {
              "type": "string"
            },
            "text/plain": [
              "'/content/sample_data'"
            ]
          },
          "metadata": {
            "tags": []
          },
          "execution_count": 26
        }
      ]
    },
    {
      "cell_type": "code",
      "metadata": {
        "id": "UlXpxIJElDzh",
        "colab": {
          "base_uri": "https://localhost:8080/"
        },
        "outputId": "46844237-1dcb-428a-8368-2d1c3954bf69"
      },
      "source": [
        "ls"
      ],
      "execution_count": null,
      "outputs": [
        {
          "output_type": "stream",
          "text": [
            "\u001b[0m\u001b[01;32manscombe.json\u001b[0m*                mnist_test.csv         student.txt\n",
            "california_housing_test.csv   mnist_train_small.csv\n",
            "california_housing_train.csv  \u001b[01;32mREADME.md\u001b[0m*\n"
          ],
          "name": "stdout"
        }
      ]
    },
    {
      "cell_type": "code",
      "metadata": {
        "id": "afz0v29Clpj8",
        "colab": {
          "base_uri": "https://localhost:8080/"
        },
        "outputId": "83e0e250-5870-45d6-8133-d99950a1aae3"
      },
      "source": [
        "with open('student.txt', 'r', encoding='euc-kr') as fr:\r\n",
        "  print(fr.readline())"
      ],
      "execution_count": null,
      "outputs": [
        {
          "output_type": "stream",
          "text": [
            "태서연;54;72;60;78\n",
            "\n"
          ],
          "name": "stdout"
        }
      ]
    },
    {
      "cell_type": "code",
      "metadata": {
        "id": "5TJNq7EEX1gg",
        "colab": {
          "base_uri": "https://localhost:8080/"
        },
        "outputId": "92054694-746e-4ad8-ec75-868aae5f3e08"
      },
      "source": [
        "with open('student.txt', 'r', encoding='euc-kr') as fr:\r\n",
        "  print(fr.readline())"
      ],
      "execution_count": null,
      "outputs": [
        {
          "output_type": "stream",
          "text": [
            "태서연;54;72;60;78\n",
            "\n"
          ],
          "name": "stdout"
        }
      ]
    },
    {
      "cell_type": "markdown",
      "metadata": {
        "id": "KQEdEn4DY4sL"
      },
      "source": [
        "- 이름(첫 번째)를 제외한 **숫자 문자열**들만 추출"
      ]
    },
    {
      "cell_type": "code",
      "metadata": {
        "id": "NhsdIykmYGRl",
        "colab": {
          "base_uri": "https://localhost:8080/"
        },
        "outputId": "0454fc95-9f8a-403d-8a05-9fd6c2902b5c"
      },
      "source": [
        "F = lambda x : x.split(';')[1:]\r\n",
        "F('태서연;54;72;60;78')"
      ],
      "execution_count": null,
      "outputs": [
        {
          "output_type": "execute_result",
          "data": {
            "text/plain": [
              "['54', '72', '60', '78']"
            ]
          },
          "metadata": {
            "tags": []
          },
          "execution_count": 33
        }
      ]
    },
    {
      "cell_type": "code",
      "metadata": {
        "id": "8naBCARtYwj0",
        "colab": {
          "base_uri": "https://localhost:8080/"
        },
        "outputId": "ee1ef51c-0752-46d9-fdbc-4682d3eaa76c"
      },
      "source": [
        "F = lambda x : x.split(';')\r\n",
        "F('태서연;54;72;60;78')"
      ],
      "execution_count": null,
      "outputs": [
        {
          "output_type": "execute_result",
          "data": {
            "text/plain": [
              "['태서연', '54', '72', '60', '78']"
            ]
          },
          "metadata": {
            "tags": []
          },
          "execution_count": 34
        }
      ]
    },
    {
      "cell_type": "markdown",
      "metadata": {
        "id": "IWsNEPtXZB4v"
      },
      "source": [
        "- 입력 문자열을 숫자로만 추출하기(list comprehension)"
      ]
    },
    {
      "cell_type": "code",
      "metadata": {
        "id": "2LZvQBNDZFV2",
        "colab": {
          "base_uri": "https://localhost:8080/"
        },
        "outputId": "f654190e-4724-46f9-cfaf-2692c19cadda"
      },
      "source": [
        "F = lambda x : [int(i) for i in x.split(';')[1:]]\r\n",
        "F('태서연;54;72;60;78')"
      ],
      "execution_count": null,
      "outputs": [
        {
          "output_type": "execute_result",
          "data": {
            "text/plain": [
              "[54, 72, 60, 78]"
            ]
          },
          "metadata": {
            "tags": []
          },
          "execution_count": 35
        }
      ]
    },
    {
      "cell_type": "markdown",
      "metadata": {
        "id": "xDAGircnZzzK"
      },
      "source": [
        "- 입력 문자열을 합계"
      ]
    },
    {
      "cell_type": "code",
      "metadata": {
        "id": "emVNFioGZRwr",
        "colab": {
          "base_uri": "https://localhost:8080/"
        },
        "outputId": "2cbb7b37-2263-4b32-b3a1-c2f684fc24b3"
      },
      "source": [
        "F = lambda x : sum([int(i) for i in x.split(';')[1:]])\r\n",
        "F('태서연;54;72;60;78')"
      ],
      "execution_count": null,
      "outputs": [
        {
          "output_type": "execute_result",
          "data": {
            "text/plain": [
              "264"
            ]
          },
          "metadata": {
            "tags": []
          },
          "execution_count": 36
        }
      ]
    },
    {
      "cell_type": "markdown",
      "metadata": {
        "id": "lHWBaFnLZ-IY"
      },
      "source": [
        "- 이름, 과목별 점수 합계 리턴"
      ]
    },
    {
      "cell_type": "code",
      "metadata": {
        "id": "U-dfGaM8aAaq",
        "colab": {
          "base_uri": "https://localhost:8080/"
        },
        "outputId": "c9d96d95-8431-455c-d650-cf7e9ca8cd60"
      },
      "source": [
        "F = lambda x : (x.split(';')[0], sum([int(i) for i in x.split(';')[1:]]))\r\n",
        "name, total = F('태서연;54;72;60;78')\r\n",
        "print(name, total)"
      ],
      "execution_count": null,
      "outputs": [
        {
          "output_type": "stream",
          "text": [
            "태서연 264\n"
          ],
          "name": "stdout"
        }
      ]
    },
    {
      "cell_type": "markdown",
      "metadata": {
        "id": "pXM_edmyaS7z"
      },
      "source": [
        "- 입력 문자열을 미리 split 하여서 리스트로 넘긴다고 가정"
      ]
    },
    {
      "cell_type": "code",
      "metadata": {
        "id": "TzXf_5Kya4bW",
        "colab": {
          "base_uri": "https://localhost:8080/"
        },
        "outputId": "ec1bd7b6-288c-4d2e-85bd-a1cccc1c0563"
      },
      "source": [
        "F = lambda L : [int(x) for x in L[1:]]\r\n",
        "F('태서연;54;72;60;78'.split(';'))"
      ],
      "execution_count": null,
      "outputs": [
        {
          "output_type": "execute_result",
          "data": {
            "text/plain": [
              "[54, 72, 60, 78]"
            ]
          },
          "metadata": {
            "tags": []
          },
          "execution_count": 38
        }
      ]
    },
    {
      "cell_type": "markdown",
      "metadata": {
        "id": "y0PsavSPaYMg"
      },
      "source": [
        "- 이름, 점수 합계를 리턴하는 방법"
      ]
    },
    {
      "cell_type": "code",
      "metadata": {
        "id": "5JrhJUubbHx7",
        "colab": {
          "base_uri": "https://localhost:8080/"
        },
        "outputId": "8abeb6cb-9d6f-4dc7-d312-a0ee3e31731d"
      },
      "source": [
        "F = lambda L : (L[0], sum([int(x) for x in L[1:]]))\r\n",
        "\r\n",
        "name, total = F('태서연;54;72;60;78'.split(';'))\r\n",
        "\r\n",
        "print(name, total)"
      ],
      "execution_count": null,
      "outputs": [
        {
          "output_type": "stream",
          "text": [
            "태서연 264\n"
          ],
          "name": "stdout"
        }
      ]
    },
    {
      "cell_type": "markdown",
      "metadata": {
        "id": "uPZ8H3oHadjU"
      },
      "source": [
        "- 타입별(이름, 합계), (이름, 평균)을 나타내는 함수"
      ]
    },
    {
      "cell_type": "code",
      "metadata": {
        "id": "kIvesDZ6bXZR",
        "colab": {
          "base_uri": "https://localhost:8080/"
        },
        "outputId": "42474a20-ce93-40cd-8766-4ebae5193b83"
      },
      "source": [
        "F = lambda L, T : (L[0], sum([int(x) for x in L[1:]])) if T==\"sum\" else\\\r\n",
        "                  (L[0], sum([int(x) for x in L[1:]])/len(L[1:])) if T==\"avg\" else\\\r\n",
        "                  (L[0], None)\r\n",
        "name, value = F('태서연;54;72;60;78'.split(';'), \"sum\")\r\n",
        "print(name, value)"
      ],
      "execution_count": null,
      "outputs": [
        {
          "output_type": "stream",
          "text": [
            "태서연 264\n"
          ],
          "name": "stdout"
        }
      ]
    },
    {
      "cell_type": "code",
      "metadata": {
        "id": "UaUISnNhcCwg",
        "colab": {
          "base_uri": "https://localhost:8080/"
        },
        "outputId": "c83e0328-f498-46fa-ab7e-1cda4b0d9e6b"
      },
      "source": [
        "name, value = F('태서연;54;72;60;78'.split(';'), \"avg\")\r\n",
        "print(name, value)"
      ],
      "execution_count": null,
      "outputs": [
        {
          "output_type": "stream",
          "text": [
            "태서연 66.0\n"
          ],
          "name": "stdout"
        }
      ]
    },
    {
      "cell_type": "code",
      "metadata": {
        "id": "AAtwXd57cIzV",
        "colab": {
          "base_uri": "https://localhost:8080/"
        },
        "outputId": "677e9afb-1364-4831-b2f6-64768ba56faa"
      },
      "source": [
        "name, value = F('태서연;54;72;60;78'.split(';'), \"mul\")\r\n",
        "print(name, value)"
      ],
      "execution_count": null,
      "outputs": [
        {
          "output_type": "stream",
          "text": [
            "태서연 None\n"
          ],
          "name": "stdout"
        }
      ]
    },
    {
      "cell_type": "markdown",
      "metadata": {
        "id": "BQ1uovT-pGgd"
      },
      "source": [
        "\r\n",
        "2월 14일\r\n",
        "---\r\n",
        "\r\n"
      ]
    },
    {
      "cell_type": "markdown",
      "metadata": {
        "id": "bTALua5hcQ7G"
      },
      "source": [
        "- 파일을 읽어서 이름;합계;평균을 내는 student_result 파일로 저장"
      ]
    },
    {
      "cell_type": "code",
      "metadata": {
        "id": "f0snxEL0cWAV"
      },
      "source": [
        "with open('student.txt', 'r', encoding='euc-kr') as fr, open('student_result.txt', 'w') as fw:\r\n",
        "  for line in fr:\r\n",
        "    name, total_sum = F(line.split(';'), 'sum')\r\n",
        "    name, total_avg = F(line.split(';'), 'avg')\r\n",
        "\r\n",
        "    #문자열 앞에 f를 붙이면 문자열 내부에 {}를 이용하여 변수를 바인딩 할 수 있음.  f-string\r\n",
        "    result = f\"{name};{total_sum};{total_avg}\\n\"\r\n",
        "    fw.write(result)"
      ],
      "execution_count": null,
      "outputs": []
    },
    {
      "cell_type": "markdown",
      "metadata": {
        "id": "Krp1HvKgdKj0"
      },
      "source": [
        "- student_result 파일에 저장된 내용 확인"
      ]
    },
    {
      "cell_type": "code",
      "metadata": {
        "id": "K1jopXfPc8uu",
        "colab": {
          "base_uri": "https://localhost:8080/"
        },
        "outputId": "6f0fa5fe-bf6b-47b4-d4bc-37721b333d91"
      },
      "source": [
        "with open('student_result.txt') as fr:\r\n",
        "  print(fr.readline())\r\n",
        "  print(fr.readline())\r\n",
        "  print(fr.readline())"
      ],
      "execution_count": null,
      "outputs": [
        {
          "output_type": "stream",
          "text": [
            "태서연;264;66.0\n",
            "\n",
            "박서윤;237;59.25\n",
            "\n",
            "정지우;244;61.0\n",
            "\n"
          ],
          "name": "stdout"
        }
      ]
    },
    {
      "cell_type": "markdown",
      "metadata": {
        "id": "qhaeKDXidcgA"
      },
      "source": [
        "**10. 데이터를 json파일/텍스트로 변환**"
      ]
    },
    {
      "cell_type": "code",
      "metadata": {
        "id": "qiN_zYzrdscw",
        "colab": {
          "base_uri": "https://localhost:8080/"
        },
        "outputId": "f0d6f778-8763-4550-a776-e980e49ff8b0"
      },
      "source": [
        "import json\r\n",
        "person_dict = {}\r\n",
        "\r\n",
        "with open('student.txt', 'r', encoding='euc-kr') as fr:\r\n",
        "  for line in fr:\r\n",
        "    data = line.strip().split(';') #불필요 공백 제거 후 문자로 문자열 분리\r\n",
        "    name = data[0]\r\n",
        "\r\n",
        "    # kor, eng, mat, sci = int(data[1]), int(data[2]), int(data[3]), int(data[4])\r\n",
        "    kor, eng, mat, sci = (int(x) for x in data[1:])\r\n",
        "    person_dict[name] = {'국어':kor, '영어':eng, '수학':mat, '과학':sci}\r\n",
        "\r\n",
        "with open('student_json', 'w') as fw:\r\n",
        "  json.dump(person_dict, fw, ensure_ascii=False, indent=4) #딕셔너리를 JSON으로 변환하여 파일로 저장\r\n",
        "\r\n",
        "json_data = json.dumps(person_dict)\r\n",
        "print(json_data)\r\n",
        "\r\n"
      ],
      "execution_count": null,
      "outputs": [
        {
          "output_type": "stream",
          "text": [
            "{\"\\ud0dc\\uc11c\\uc5f0\": {\"\\uad6d\\uc5b4\": 54, \"\\uc601\\uc5b4\": 72, \"\\uc218\\ud559\": 60, \"\\uacfc\\ud559\": 78}, \"\\ubc15\\uc11c\\uc724\": {\"\\uad6d\\uc5b4\": 62, \"\\uc601\\uc5b4\": 78, \"\\uc218\\ud559\": 16, \"\\uacfc\\ud559\": 81}, \"\\uc815\\uc9c0\\uc6b0\": {\"\\uad6d\\uc5b4\": 66, \"\\uc601\\uc5b4\": 72, \"\\uc218\\ud559\": 32, \"\\uacfc\\ud559\": 74}, \"\\uc815\\uc11c\\ud604\": {\"\\uad6d\\uc5b4\": 56, \"\\uc601\\uc5b4\": 80, \"\\uc218\\ud559\": 67, \"\\uacfc\\ud559\": 85}, \"\\ubc15\\ubbfc\\uc11c\": {\"\\uad6d\\uc5b4\": 64, \"\\uc601\\uc5b4\": 92, \"\\uc218\\ud559\": 11, \"\\uacfc\\ud559\": 66}, \"\\uc774\\ud558\\uc740\": {\"\\uad6d\\uc5b4\": 85, \"\\uc601\\uc5b4\": 35, \"\\uc218\\ud559\": 71, \"\\uacfc\\ud559\": 90}, \"\\uc815\\ud558\\uc724\": {\"\\uad6d\\uc5b4\": 51, \"\\uc601\\uc5b4\": 26, \"\\uc218\\ud559\": 36, \"\\uacfc\\ud559\": 63}, \"\\ubc15\\uc724\\uc11c\": {\"\\uad6d\\uc5b4\": 77, \"\\uc601\\uc5b4\": 84, \"\\uc218\\ud559\": 32, \"\\uacfc\\ud559\": 93}, \"\\uc815\\uc9c0\\ubbfc\": {\"\\uad6d\\uc5b4\": 73, \"\\uc601\\uc5b4\": 28, \"\\uc218\\ud559\": 66, \"\\uacfc\\ud559\": 70}, \"\\ubc15\\uc9c0\\uc720\": {\"\\uad6d\\uc5b4\": 51, \"\\uc601\\uc5b4\": 34, \"\\uc218\\ud559\": 55, \"\\uacfc\\ud559\": 63}, \"\\uae40\\ucc44\\uc6d0\": {\"\\uad6d\\uc5b4\": 77, \"\\uc601\\uc5b4\": 72, \"\\uc218\\ud559\": 29, \"\\uacfc\\ud559\": 75}, \"\\uae40\\uc9c0\\uc724\": {\"\\uad6d\\uc5b4\": 78, \"\\uc601\\uc5b4\": 27, \"\\uc218\\ud559\": 41, \"\\uacfc\\ud559\": 67}, \"\\ubc15\\uc740\\uc11c\": {\"\\uad6d\\uc5b4\": 61, \"\\uc601\\uc5b4\": 52, \"\\uc218\\ud559\": 38, \"\\uacfc\\ud559\": 65}, \"\\uae40\\uc218\\uc544\": {\"\\uad6d\\uc5b4\": 51, \"\\uc601\\uc5b4\": 32, \"\\uc218\\ud559\": 26, \"\\uacfc\\ud559\": 91}, \"\\uc815\\ub2e4\\uc740\": {\"\\uad6d\\uc5b4\": 59, \"\\uc601\\uc5b4\": 50, \"\\uc218\\ud559\": 63, \"\\uacfc\\ud559\": 71}, \"\\ubc15\\uc608\\uc740\": {\"\\uad6d\\uc5b4\": 73, \"\\uc601\\uc5b4\": 29, \"\\uc218\\ud559\": 78, \"\\uacfc\\ud559\": 99}, \"\\ud0dc\\uc218\\ube48\": {\"\\uad6d\\uc5b4\": 51, \"\\uc601\\uc5b4\": 34, \"\\uc218\\ud559\": 44, \"\\uacfc\\ud559\": 76}, \"\\uc774\\uc9c0\\uc544\": {\"\\uad6d\\uc5b4\": 53, \"\\uc601\\uc5b4\": 32, \"\\uc218\\ud559\": 56, \"\\uacfc\\ud559\": 70}, \"\\uc815\\uc18c\\uc728\": {\"\\uad6d\\uc5b4\": 55, \"\\uc601\\uc5b4\": 54, \"\\uc218\\ud559\": 28, \"\\uacfc\\ud559\": 94}, \"\\uc815\\uc608\\uc6d0\": {\"\\uad6d\\uc5b4\": 65, \"\\uc601\\uc5b4\": 74, \"\\uc218\\ud559\": 75, \"\\uacfc\\ud559\": 99}, \"\\uae40\\uc608\\ub9b0\": {\"\\uad6d\\uc5b4\": 94, \"\\uc601\\uc5b4\": 93, \"\\uc218\\ud559\": 72, \"\\uacfc\\ud559\": 81}, \"\\uc774\\uc9c0\\uc6d0\": {\"\\uad6d\\uc5b4\": 61, \"\\uc601\\uc5b4\": 41, \"\\uc218\\ud559\": 32, \"\\uacfc\\ud559\": 100}, \"\\ud0dc\\uc18c\\uc724\": {\"\\uad6d\\uc5b4\": 87, \"\\uc601\\uc5b4\": 23, \"\\uc218\\ud559\": 86, \"\\uacfc\\ud559\": 97}, \"\\uc774\\uc9c0\\uc548\": {\"\\uad6d\\uc5b4\": 53, \"\\uc601\\uc5b4\": 38, \"\\uc218\\ud559\": 57, \"\\uacfc\\ud559\": 66}, \"\\ud0dc\\uc720\\uc9c4\": {\"\\uad6d\\uc5b4\": 81, \"\\uc601\\uc5b4\": 68, \"\\uc218\\ud559\": 83, \"\\uacfc\\ud559\": 66}, \"\\ubc15\\uc2dc\\uc740\": {\"\\uad6d\\uc5b4\": 84, \"\\uc601\\uc5b4\": 94, \"\\uc218\\ud559\": 56, \"\\uacfc\\ud559\": 63}, \"\\uc815\\ud558\\ub9b0\": {\"\\uad6d\\uc5b4\": 86, \"\\uc601\\uc5b4\": 29, \"\\uc218\\ud559\": 32, \"\\uacfc\\ud559\": 78}, \"\\uc815\\ucc44\\uc740\": {\"\\uad6d\\uc5b4\": 93, \"\\uc601\\uc5b4\": 47, \"\\uc218\\ud559\": 44, \"\\uacfc\\ud559\": 93}, \"\\uc815\\uac00\\uc740\": {\"\\uad6d\\uc5b4\": 76, \"\\uc601\\uc5b4\": 34, \"\\uc218\\ud559\": 12, \"\\uacfc\\ud559\": 60}, \"\\uae40\\uc724\\uc544\": {\"\\uad6d\\uc5b4\": 79, \"\\uc601\\uc5b4\": 31, \"\\uc218\\ud559\": 75, \"\\uacfc\\ud559\": 79}, \"\\uc815\\uc11c\\uc601\": {\"\\uad6d\\uc5b4\": 54, \"\\uc601\\uc5b4\": 52, \"\\uc218\\ud559\": 32, \"\\uacfc\\ud559\": 62}, \"\\uc815\\uc720\\ub098\": {\"\\uad6d\\uc5b4\": 91, \"\\uc601\\uc5b4\": 25, \"\\uc218\\ud559\": 42, \"\\uacfc\\ud559\": 77}, \"\\uc815\\ubbfc\\uc9c0\": {\"\\uad6d\\uc5b4\": 74, \"\\uc601\\uc5b4\": 55, \"\\uc218\\ud559\": 23, \"\\uacfc\\ud559\": 74}, \"\\uae40\\uc608\\uc9c4\": {\"\\uad6d\\uc5b4\": 86, \"\\uc601\\uc5b4\": 27, \"\\uc218\\ud559\": 56, \"\\uacfc\\ud559\": 79}, \"\\ubc15\\uc218\\ubbfc\": {\"\\uad6d\\uc5b4\": 58, \"\\uc601\\uc5b4\": 59, \"\\uc218\\ud559\": 71, \"\\uacfc\\ud559\": 64}, \"\\uc774\\uc218\\uc5f0\": {\"\\uad6d\\uc5b4\": 98, \"\\uc601\\uc5b4\": 81, \"\\uc218\\ud559\": 31, \"\\uacfc\\ud559\": 94}, \"\\ud0dc\\uc5f0\\uc6b0\": {\"\\uad6d\\uc5b4\": 67, \"\\uc601\\uc5b4\": 76, \"\\uc218\\ud559\": 41, \"\\uacfc\\ud559\": 64}, \"\\ud0dc\\uc11c\\uc544\": {\"\\uad6d\\uc5b4\": 73, \"\\uc601\\uc5b4\": 27, \"\\uc218\\ud559\": 52, \"\\uacfc\\ud559\": 100}, \"\\ubc15\\uc608\\ub098\": {\"\\uad6d\\uc5b4\": 61, \"\\uc601\\uc5b4\": 67, \"\\uc218\\ud559\": 81, \"\\uacfc\\ud559\": 63}, \"\\ud0dc\\uc608\\uc11c\": {\"\\uad6d\\uc5b4\": 79, \"\\uc601\\uc5b4\": 68, \"\\uc218\\ud559\": 51, \"\\uacfc\\ud559\": 80}, \"\\uc815\\uc8fc\\uc544\": {\"\\uad6d\\uc5b4\": 83, \"\\uc601\\uc5b4\": 95, \"\\uc218\\ud559\": 44, \"\\uacfc\\ud559\": 93}, \"\\uae40\\uc2dc\\uc5f0\": {\"\\uad6d\\uc5b4\": 92, \"\\uc601\\uc5b4\": 95, \"\\uc218\\ud559\": 37, \"\\uacfc\\ud559\": 85}, \"\\ud0dc\\uc5f0\\uc11c\": {\"\\uad6d\\uc5b4\": 80, \"\\uc601\\uc5b4\": 35, \"\\uc218\\ud559\": 60, \"\\uacfc\\ud559\": 83}, \"\\ud0dc\\ud558\\uc728\": {\"\\uad6d\\uc5b4\": 92, \"\\uc601\\uc5b4\": 98, \"\\uc218\\ud559\": 17, \"\\uacfc\\ud559\": 82}, \"\\ubc15\\ub2e4\\uc778\": {\"\\uad6d\\uc5b4\": 66, \"\\uc601\\uc5b4\": 54, \"\\uc218\\ud559\": 25, \"\\uacfc\\ud559\": 100}, \"\\ubc15\\ub2e4\\uc5f0\": {\"\\uad6d\\uc5b4\": 70, \"\\uc601\\uc5b4\": 73, \"\\uc218\\ud559\": 32, \"\\uacfc\\ud559\": 70}, \"\\uae40\\ud604\\uc11c\": {\"\\uad6d\\uc5b4\": 72, \"\\uc601\\uc5b4\": 68, \"\\uc218\\ud559\": 25, \"\\uacfc\\ud559\": 75}, \"\\uae40\\uc544\\uc778\": {\"\\uad6d\\uc5b4\": 95, \"\\uc601\\uc5b4\": 52, \"\\uc218\\ud559\": 61, \"\\uacfc\\ud559\": 60}, \"\\ubc15\\uc11c\\uc740\": {\"\\uad6d\\uc5b4\": 89, \"\\uc601\\uc5b4\": 83, \"\\uc218\\ud559\": 38, \"\\uacfc\\ud559\": 88}, \"\\ud0dc\\uc2dc\\uc544\": {\"\\uad6d\\uc5b4\": 51, \"\\uc601\\uc5b4\": 91, \"\\uc218\\ud559\": 17, \"\\uacfc\\ud559\": 88}, \"\\uc815\\uc720\\uc8fc\": {\"\\uad6d\\uc5b4\": 87, \"\\uc601\\uc5b4\": 72, \"\\uc218\\ud559\": 45, \"\\uacfc\\ud559\": 62}, \"\\uc774\\uc11c\\uc9c4\": {\"\\uad6d\\uc5b4\": 61, \"\\uc601\\uc5b4\": 73, \"\\uc218\\ud559\": 35, \"\\uacfc\\ud559\": 69}, \"\\uc815\\uc720\\ube48\": {\"\\uad6d\\uc5b4\": 77, \"\\uc601\\uc5b4\": 56, \"\\uc218\\ud559\": 82, \"\\uacfc\\ud559\": 84}, \"\\ubc15\\ud558\\uc5f0\": {\"\\uad6d\\uc5b4\": 82, \"\\uc601\\uc5b4\": 25, \"\\uc218\\ud559\": 28, \"\\uacfc\\ud559\": 62}, \"\\uc815\\ucc44\\uc724\": {\"\\uad6d\\uc5b4\": 54, \"\\uc601\\uc5b4\": 32, \"\\uc218\\ud559\": 48, \"\\uacfc\\ud559\": 92}, \"\\uae40\\uc11c\\uc6b0\": {\"\\uad6d\\uc5b4\": 88, \"\\uc601\\uc5b4\": 45, \"\\uc218\\ud559\": 47, \"\\uacfc\\ud559\": 83}, \"\\uc774\\uc11c\\uc728\": {\"\\uad6d\\uc5b4\": 81, \"\\uc601\\uc5b4\": 52, \"\\uc218\\ud559\": 95, \"\\uacfc\\ud559\": 81}, \"\\uc815\\uc218\\ud604\": {\"\\uad6d\\uc5b4\": 51, \"\\uc601\\uc5b4\": 41, \"\\uc218\\ud559\": 71, \"\\uacfc\\ud559\": 95}, \"\\uc774\\uc9c0\\uc728\": {\"\\uad6d\\uc5b4\": 87, \"\\uc601\\uc5b4\": 72, \"\\uc218\\ud559\": 49, \"\\uacfc\\ud559\": 77}, \"\\ubc15\\uc544\\ub9b0\": {\"\\uad6d\\uc5b4\": 58, \"\\uc601\\uc5b4\": 36, \"\\uc218\\ud559\": 55, \"\\uacfc\\ud559\": 92}, \"\\uc815\\ub098\\uc724\": {\"\\uad6d\\uc5b4\": 71, \"\\uc601\\uc5b4\": 94, \"\\uc218\\ud559\": 81, \"\\uacfc\\ud559\": 70}, \"\\ubc15\\uc608\\uc9c0\": {\"\\uad6d\\uc5b4\": 57, \"\\uc601\\uc5b4\": 42, \"\\uc218\\ud559\": 46, \"\\uacfc\\ud559\": 95}, \"\\ubc15\\ub2e4\\ud604\": {\"\\uad6d\\uc5b4\": 66, \"\\uc601\\uc5b4\": 99, \"\\uc218\\ud559\": 31, \"\\uacfc\\ud559\": 72}, \"\\uc774\\ubbfc\\uc8fc\": {\"\\uad6d\\uc5b4\": 76, \"\\uc601\\uc5b4\": 83, \"\\uc218\\ud559\": 24, \"\\uacfc\\ud559\": 70}, \"\\ud0dc\\uc9c0\\uc740\": {\"\\uad6d\\uc5b4\": 98, \"\\uc601\\uc5b4\": 68, \"\\uc218\\ud559\": 25, \"\\uacfc\\ud559\": 92}, \"\\uc774\\ub098\\uc5f0\": {\"\\uad6d\\uc5b4\": 77, \"\\uc601\\uc5b4\": 95, \"\\uc218\\ud559\": 65, \"\\uacfc\\ud559\": 99}, \"\\ubc15\\uc18c\\uc740\": {\"\\uad6d\\uc5b4\": 79, \"\\uc601\\uc5b4\": 73, \"\\uc218\\ud559\": 38, \"\\uacfc\\ud559\": 86}, \"\\uc774\\uc2dc\\ud604\": {\"\\uad6d\\uc5b4\": 81, \"\\uc601\\uc5b4\": 96, \"\\uc218\\ud559\": 48, \"\\uacfc\\ud559\": 72}, \"\\uc774\\uc724\\uc9c0\": {\"\\uad6d\\uc5b4\": 100, \"\\uc601\\uc5b4\": 80, \"\\uc218\\ud559\": 25, \"\\uacfc\\ud559\": 77}, \"\\ubc15\\uc0ac\\ub791\": {\"\\uad6d\\uc5b4\": 66, \"\\uc601\\uc5b4\": 71, \"\\uc218\\ud559\": 72, \"\\uacfc\\ud559\": 68}, \"\\uae40\\uc608\\ube48\": {\"\\uad6d\\uc5b4\": 79, \"\\uc601\\uc5b4\": 79, \"\\uc218\\ud559\": 27, \"\\uacfc\\ud559\": 98}, \"\\ubc15\\uc9c0\\ud604\": {\"\\uad6d\\uc5b4\": 65, \"\\uc601\\uc5b4\": 23, \"\\uc218\\ud559\": 81, \"\\uacfc\\ud559\": 89}, \"\\ubc15\\uc18c\\uc5f0\": {\"\\uad6d\\uc5b4\": 56, \"\\uc601\\uc5b4\": 57, \"\\uc218\\ud559\": 35, \"\\uacfc\\ud559\": 66}, \"\\uc815\\ub098\\uc740\": {\"\\uad6d\\uc5b4\": 99, \"\\uc601\\uc5b4\": 45, \"\\uc218\\ud559\": 41, \"\\uacfc\\ud559\": 90}, \"\\ud0dc\\uc11c\\ud558\": {\"\\uad6d\\uc5b4\": 57, \"\\uc601\\uc5b4\": 57, \"\\uc218\\ud559\": 80, \"\\uacfc\\ud559\": 78}, \"\\uc774\\ud61c\\uc6d0\": {\"\\uad6d\\uc5b4\": 73, \"\\uc601\\uc5b4\": 91, \"\\uc218\\ud559\": 22, \"\\uacfc\\ud559\": 90}, \"\\uc774\\uc9c0\\uc218\": {\"\\uad6d\\uc5b4\": 60, \"\\uc601\\uc5b4\": 24, \"\\uc218\\ud559\": 20, \"\\uacfc\\ud559\": 62}, \"\\ud0dc\\uc740\\ucc44\": {\"\\uad6d\\uc5b4\": 86, \"\\uc601\\uc5b4\": 23, \"\\uc218\\ud559\": 95, \"\\uacfc\\ud559\": 60}, \"\\uc815\\uc544\\uc724\": {\"\\uad6d\\uc5b4\": 62, \"\\uc601\\uc5b4\": 97, \"\\uc218\\ud559\": 31, \"\\uacfc\\ud559\": 83}, \"\\ubc15\\uc8fc\\ud558\": {\"\\uad6d\\uc5b4\": 70, \"\\uc601\\uc5b4\": 21, \"\\uc218\\ud559\": 22, \"\\uacfc\\ud559\": 71}, \"\\uc774\\uc2b9\\uc544\": {\"\\uad6d\\uc5b4\": 61, \"\\uc601\\uc5b4\": 80, \"\\uc218\\ud559\": 45, \"\\uacfc\\ud559\": 85}, \"\\uc815\\ucc44\\uc544\": {\"\\uad6d\\uc5b4\": 71, \"\\uc601\\uc5b4\": 53, \"\\uc218\\ud559\": 82, \"\\uacfc\\ud559\": 68}, \"\\uc815\\uc18c\\ubbfc\": {\"\\uad6d\\uc5b4\": 63, \"\\uc601\\uc5b4\": 72, \"\\uc218\\ud559\": 33, \"\\uacfc\\ud559\": 97}, \"\\uc774\\uc11c\\ud76c\": {\"\\uad6d\\uc5b4\": 87, \"\\uc601\\uc5b4\": 53, \"\\uc218\\ud559\": 81, \"\\uacfc\\ud559\": 80}, \"\\ud0dc\\ub098\\ud604\": {\"\\uad6d\\uc5b4\": 88, \"\\uc601\\uc5b4\": 38, \"\\uc218\\ud559\": 46, \"\\uacfc\\ud559\": 77}, \"\\uae40\\ub2e4\\uc724\": {\"\\uad6d\\uc5b4\": 77, \"\\uc601\\uc5b4\": 52, \"\\uc218\\ud559\": 50, \"\\uacfc\\ud559\": 92}, \"\\uc774\\ubbfc\\uc544\": {\"\\uad6d\\uc5b4\": 98, \"\\uc601\\uc5b4\": 71, \"\\uc218\\ud559\": 43, \"\\uacfc\\ud559\": 68}, \"\\uc815\\ucc44\\ub9b0\": {\"\\uad6d\\uc5b4\": 52, \"\\uc601\\uc5b4\": 53, \"\\uc218\\ud559\": 36, \"\\uacfc\\ud559\": 90}, \"\\uc774\\ud558\\uc601\": {\"\\uad6d\\uc5b4\": 94, \"\\uc601\\uc5b4\": 47, \"\\uc218\\ud559\": 84, \"\\uacfc\\ud559\": 78}, \"\\uc774\\uc138\\uc740\": {\"\\uad6d\\uc5b4\": 62, \"\\uc601\\uc5b4\": 86, \"\\uc218\\ud559\": 42, \"\\uacfc\\ud559\": 90}, \"\\ud0dc\\ub3c4\\uc5f0\": {\"\\uad6d\\uc5b4\": 89, \"\\uc601\\uc5b4\": 56, \"\\uc218\\ud559\": 60, \"\\uacfc\\ud559\": 99}, \"\\uc774\\uaddc\\ub9ac\": {\"\\uad6d\\uc5b4\": 82, \"\\uc601\\uc5b4\": 87, \"\\uc218\\ud559\": 75, \"\\uacfc\\ud559\": 92}, \"\\uc815\\uc544\\uc601\": {\"\\uad6d\\uc5b4\": 86, \"\\uc601\\uc5b4\": 79, \"\\uc218\\ud559\": 34, \"\\uacfc\\ud559\": 81}, \"\\uc815\\uc138\\uc544\": {\"\\uad6d\\uc5b4\": 92, \"\\uc601\\uc5b4\": 99, \"\\uc218\\ud559\": 92, \"\\uacfc\\ud559\": 92}, \"\\uae40\\uc9c0\\uc5f0\": {\"\\uad6d\\uc5b4\": 69, \"\\uc601\\uc5b4\": 61, \"\\uc218\\ud559\": 15, \"\\uacfc\\ud559\": 76}, \"\\ud0dc\\uc608\\ub9bc\": {\"\\uad6d\\uc5b4\": 96, \"\\uc601\\uc5b4\": 24, \"\\uc218\\ud559\": 23, \"\\uacfc\\ud559\": 85}, \"\\uc815\\uac00\\uc724\": {\"\\uad6d\\uc5b4\": 69, \"\\uc601\\uc5b4\": 36, \"\\uc218\\ud559\": 26, \"\\uacfc\\ud559\": 63}, \"\\uc815\\ub2e4\\uc628\": {\"\\uad6d\\uc5b4\": 95, \"\\uc601\\uc5b4\": 73, \"\\uc218\\ud559\": 19, \"\\uacfc\\ud559\": 68}, \"\\uc774\\ud0dc\\ud76c\": {\"\\uad6d\\uc5b4\": 86, \"\\uc601\\uc5b4\": 54, \"\\uc218\\ud559\": 94, \"\\uacfc\\ud559\": 62}, \"\\uc774\\ubbfc\\ucc44\": {\"\\uad6d\\uc5b4\": 85, \"\\uc601\\uc5b4\": 97, \"\\uc218\\ud559\": 38, \"\\uacfc\\ud559\": 69}}\n"
          ],
          "name": "stdout"
        }
      ]
    },
    {
      "cell_type": "markdown",
      "metadata": {
        "id": "HcaBAZfofw04"
      },
      "source": [
        "**11. 파이썬 오브젝트를 json 텍스트로 변환**"
      ]
    },
    {
      "cell_type": "code",
      "metadata": {
        "id": "m32C18N9fbbX",
        "colab": {
          "base_uri": "https://localhost:8080/"
        },
        "outputId": "8ae50904-4e7b-41d8-f56c-b94d825e7d5d"
      },
      "source": [
        "import json\r\n",
        "person_dict = {}\r\n",
        "\r\n",
        "with open('student.txt', 'r', encoding='euc-kr') as fr:\r\n",
        "  for line in fr:\r\n",
        "    data = line.strip().split(';') #불필요 공백 제거 후 문자로 문자열 분리\r\n",
        "    name = data[0] #이름\r\n",
        "\r\n",
        "    # kor, eng, mat, sci = int(data[1]), int(data[2]), int(data[3]), int(data[4])\r\n",
        "    kor, eng, mat, sci = (int(x) for x in data[1:])\r\n",
        "    person_dict[name] = {'국어':kor, '영어':eng, '수학':mat, '과학':sci}\r\n",
        "\r\n",
        "json_data = json.dumps(person_dict, ensure_ascii=False, indent=4) #한글 보존, indent 추가\r\n",
        "print(json_data)"
      ],
      "execution_count": null,
      "outputs": [
        {
          "output_type": "stream",
          "text": [
            "{\n",
            "    \"태서연\": {\n",
            "        \"국어\": 54,\n",
            "        \"영어\": 72,\n",
            "        \"수학\": 60,\n",
            "        \"과학\": 78\n",
            "    },\n",
            "    \"박서윤\": {\n",
            "        \"국어\": 62,\n",
            "        \"영어\": 78,\n",
            "        \"수학\": 16,\n",
            "        \"과학\": 81\n",
            "    },\n",
            "    \"정지우\": {\n",
            "        \"국어\": 66,\n",
            "        \"영어\": 72,\n",
            "        \"수학\": 32,\n",
            "        \"과학\": 74\n",
            "    },\n",
            "    \"정서현\": {\n",
            "        \"국어\": 56,\n",
            "        \"영어\": 80,\n",
            "        \"수학\": 67,\n",
            "        \"과학\": 85\n",
            "    },\n",
            "    \"박민서\": {\n",
            "        \"국어\": 64,\n",
            "        \"영어\": 92,\n",
            "        \"수학\": 11,\n",
            "        \"과학\": 66\n",
            "    },\n",
            "    \"이하은\": {\n",
            "        \"국어\": 85,\n",
            "        \"영어\": 35,\n",
            "        \"수학\": 71,\n",
            "        \"과학\": 90\n",
            "    },\n",
            "    \"정하윤\": {\n",
            "        \"국어\": 51,\n",
            "        \"영어\": 26,\n",
            "        \"수학\": 36,\n",
            "        \"과학\": 63\n",
            "    },\n",
            "    \"박윤서\": {\n",
            "        \"국어\": 77,\n",
            "        \"영어\": 84,\n",
            "        \"수학\": 32,\n",
            "        \"과학\": 93\n",
            "    },\n",
            "    \"정지민\": {\n",
            "        \"국어\": 73,\n",
            "        \"영어\": 28,\n",
            "        \"수학\": 66,\n",
            "        \"과학\": 70\n",
            "    },\n",
            "    \"박지유\": {\n",
            "        \"국어\": 51,\n",
            "        \"영어\": 34,\n",
            "        \"수학\": 55,\n",
            "        \"과학\": 63\n",
            "    },\n",
            "    \"김채원\": {\n",
            "        \"국어\": 77,\n",
            "        \"영어\": 72,\n",
            "        \"수학\": 29,\n",
            "        \"과학\": 75\n",
            "    },\n",
            "    \"김지윤\": {\n",
            "        \"국어\": 78,\n",
            "        \"영어\": 27,\n",
            "        \"수학\": 41,\n",
            "        \"과학\": 67\n",
            "    },\n",
            "    \"박은서\": {\n",
            "        \"국어\": 61,\n",
            "        \"영어\": 52,\n",
            "        \"수학\": 38,\n",
            "        \"과학\": 65\n",
            "    },\n",
            "    \"김수아\": {\n",
            "        \"국어\": 51,\n",
            "        \"영어\": 32,\n",
            "        \"수학\": 26,\n",
            "        \"과학\": 91\n",
            "    },\n",
            "    \"정다은\": {\n",
            "        \"국어\": 59,\n",
            "        \"영어\": 50,\n",
            "        \"수학\": 63,\n",
            "        \"과학\": 71\n",
            "    },\n",
            "    \"박예은\": {\n",
            "        \"국어\": 73,\n",
            "        \"영어\": 29,\n",
            "        \"수학\": 78,\n",
            "        \"과학\": 99\n",
            "    },\n",
            "    \"태수빈\": {\n",
            "        \"국어\": 51,\n",
            "        \"영어\": 34,\n",
            "        \"수학\": 44,\n",
            "        \"과학\": 76\n",
            "    },\n",
            "    \"이지아\": {\n",
            "        \"국어\": 53,\n",
            "        \"영어\": 32,\n",
            "        \"수학\": 56,\n",
            "        \"과학\": 70\n",
            "    },\n",
            "    \"정소율\": {\n",
            "        \"국어\": 55,\n",
            "        \"영어\": 54,\n",
            "        \"수학\": 28,\n",
            "        \"과학\": 94\n",
            "    },\n",
            "    \"정예원\": {\n",
            "        \"국어\": 65,\n",
            "        \"영어\": 74,\n",
            "        \"수학\": 75,\n",
            "        \"과학\": 99\n",
            "    },\n",
            "    \"김예린\": {\n",
            "        \"국어\": 94,\n",
            "        \"영어\": 93,\n",
            "        \"수학\": 72,\n",
            "        \"과학\": 81\n",
            "    },\n",
            "    \"이지원\": {\n",
            "        \"국어\": 61,\n",
            "        \"영어\": 41,\n",
            "        \"수학\": 32,\n",
            "        \"과학\": 100\n",
            "    },\n",
            "    \"태소윤\": {\n",
            "        \"국어\": 87,\n",
            "        \"영어\": 23,\n",
            "        \"수학\": 86,\n",
            "        \"과학\": 97\n",
            "    },\n",
            "    \"이지안\": {\n",
            "        \"국어\": 53,\n",
            "        \"영어\": 38,\n",
            "        \"수학\": 57,\n",
            "        \"과학\": 66\n",
            "    },\n",
            "    \"태유진\": {\n",
            "        \"국어\": 81,\n",
            "        \"영어\": 68,\n",
            "        \"수학\": 83,\n",
            "        \"과학\": 66\n",
            "    },\n",
            "    \"박시은\": {\n",
            "        \"국어\": 84,\n",
            "        \"영어\": 94,\n",
            "        \"수학\": 56,\n",
            "        \"과학\": 63\n",
            "    },\n",
            "    \"정하린\": {\n",
            "        \"국어\": 86,\n",
            "        \"영어\": 29,\n",
            "        \"수학\": 32,\n",
            "        \"과학\": 78\n",
            "    },\n",
            "    \"정채은\": {\n",
            "        \"국어\": 93,\n",
            "        \"영어\": 47,\n",
            "        \"수학\": 44,\n",
            "        \"과학\": 93\n",
            "    },\n",
            "    \"정가은\": {\n",
            "        \"국어\": 76,\n",
            "        \"영어\": 34,\n",
            "        \"수학\": 12,\n",
            "        \"과학\": 60\n",
            "    },\n",
            "    \"김윤아\": {\n",
            "        \"국어\": 79,\n",
            "        \"영어\": 31,\n",
            "        \"수학\": 75,\n",
            "        \"과학\": 79\n",
            "    },\n",
            "    \"정서영\": {\n",
            "        \"국어\": 54,\n",
            "        \"영어\": 52,\n",
            "        \"수학\": 32,\n",
            "        \"과학\": 62\n",
            "    },\n",
            "    \"정유나\": {\n",
            "        \"국어\": 91,\n",
            "        \"영어\": 25,\n",
            "        \"수학\": 42,\n",
            "        \"과학\": 77\n",
            "    },\n",
            "    \"정민지\": {\n",
            "        \"국어\": 74,\n",
            "        \"영어\": 55,\n",
            "        \"수학\": 23,\n",
            "        \"과학\": 74\n",
            "    },\n",
            "    \"김예진\": {\n",
            "        \"국어\": 86,\n",
            "        \"영어\": 27,\n",
            "        \"수학\": 56,\n",
            "        \"과학\": 79\n",
            "    },\n",
            "    \"박수민\": {\n",
            "        \"국어\": 58,\n",
            "        \"영어\": 59,\n",
            "        \"수학\": 71,\n",
            "        \"과학\": 64\n",
            "    },\n",
            "    \"이수연\": {\n",
            "        \"국어\": 98,\n",
            "        \"영어\": 81,\n",
            "        \"수학\": 31,\n",
            "        \"과학\": 94\n",
            "    },\n",
            "    \"태연우\": {\n",
            "        \"국어\": 67,\n",
            "        \"영어\": 76,\n",
            "        \"수학\": 41,\n",
            "        \"과학\": 64\n",
            "    },\n",
            "    \"태서아\": {\n",
            "        \"국어\": 73,\n",
            "        \"영어\": 27,\n",
            "        \"수학\": 52,\n",
            "        \"과학\": 100\n",
            "    },\n",
            "    \"박예나\": {\n",
            "        \"국어\": 61,\n",
            "        \"영어\": 67,\n",
            "        \"수학\": 81,\n",
            "        \"과학\": 63\n",
            "    },\n",
            "    \"태예서\": {\n",
            "        \"국어\": 79,\n",
            "        \"영어\": 68,\n",
            "        \"수학\": 51,\n",
            "        \"과학\": 80\n",
            "    },\n",
            "    \"정주아\": {\n",
            "        \"국어\": 83,\n",
            "        \"영어\": 95,\n",
            "        \"수학\": 44,\n",
            "        \"과학\": 93\n",
            "    },\n",
            "    \"김시연\": {\n",
            "        \"국어\": 92,\n",
            "        \"영어\": 95,\n",
            "        \"수학\": 37,\n",
            "        \"과학\": 85\n",
            "    },\n",
            "    \"태연서\": {\n",
            "        \"국어\": 80,\n",
            "        \"영어\": 35,\n",
            "        \"수학\": 60,\n",
            "        \"과학\": 83\n",
            "    },\n",
            "    \"태하율\": {\n",
            "        \"국어\": 92,\n",
            "        \"영어\": 98,\n",
            "        \"수학\": 17,\n",
            "        \"과학\": 82\n",
            "    },\n",
            "    \"박다인\": {\n",
            "        \"국어\": 66,\n",
            "        \"영어\": 54,\n",
            "        \"수학\": 25,\n",
            "        \"과학\": 100\n",
            "    },\n",
            "    \"박다연\": {\n",
            "        \"국어\": 70,\n",
            "        \"영어\": 73,\n",
            "        \"수학\": 32,\n",
            "        \"과학\": 70\n",
            "    },\n",
            "    \"김현서\": {\n",
            "        \"국어\": 72,\n",
            "        \"영어\": 68,\n",
            "        \"수학\": 25,\n",
            "        \"과학\": 75\n",
            "    },\n",
            "    \"김아인\": {\n",
            "        \"국어\": 95,\n",
            "        \"영어\": 52,\n",
            "        \"수학\": 61,\n",
            "        \"과학\": 60\n",
            "    },\n",
            "    \"박서은\": {\n",
            "        \"국어\": 89,\n",
            "        \"영어\": 83,\n",
            "        \"수학\": 38,\n",
            "        \"과학\": 88\n",
            "    },\n",
            "    \"태시아\": {\n",
            "        \"국어\": 51,\n",
            "        \"영어\": 91,\n",
            "        \"수학\": 17,\n",
            "        \"과학\": 88\n",
            "    },\n",
            "    \"정유주\": {\n",
            "        \"국어\": 87,\n",
            "        \"영어\": 72,\n",
            "        \"수학\": 45,\n",
            "        \"과학\": 62\n",
            "    },\n",
            "    \"이서진\": {\n",
            "        \"국어\": 61,\n",
            "        \"영어\": 73,\n",
            "        \"수학\": 35,\n",
            "        \"과학\": 69\n",
            "    },\n",
            "    \"정유빈\": {\n",
            "        \"국어\": 77,\n",
            "        \"영어\": 56,\n",
            "        \"수학\": 82,\n",
            "        \"과학\": 84\n",
            "    },\n",
            "    \"박하연\": {\n",
            "        \"국어\": 82,\n",
            "        \"영어\": 25,\n",
            "        \"수학\": 28,\n",
            "        \"과학\": 62\n",
            "    },\n",
            "    \"정채윤\": {\n",
            "        \"국어\": 54,\n",
            "        \"영어\": 32,\n",
            "        \"수학\": 48,\n",
            "        \"과학\": 92\n",
            "    },\n",
            "    \"김서우\": {\n",
            "        \"국어\": 88,\n",
            "        \"영어\": 45,\n",
            "        \"수학\": 47,\n",
            "        \"과학\": 83\n",
            "    },\n",
            "    \"이서율\": {\n",
            "        \"국어\": 81,\n",
            "        \"영어\": 52,\n",
            "        \"수학\": 95,\n",
            "        \"과학\": 81\n",
            "    },\n",
            "    \"정수현\": {\n",
            "        \"국어\": 51,\n",
            "        \"영어\": 41,\n",
            "        \"수학\": 71,\n",
            "        \"과학\": 95\n",
            "    },\n",
            "    \"이지율\": {\n",
            "        \"국어\": 87,\n",
            "        \"영어\": 72,\n",
            "        \"수학\": 49,\n",
            "        \"과학\": 77\n",
            "    },\n",
            "    \"박아린\": {\n",
            "        \"국어\": 58,\n",
            "        \"영어\": 36,\n",
            "        \"수학\": 55,\n",
            "        \"과학\": 92\n",
            "    },\n",
            "    \"정나윤\": {\n",
            "        \"국어\": 71,\n",
            "        \"영어\": 94,\n",
            "        \"수학\": 81,\n",
            "        \"과학\": 70\n",
            "    },\n",
            "    \"박예지\": {\n",
            "        \"국어\": 57,\n",
            "        \"영어\": 42,\n",
            "        \"수학\": 46,\n",
            "        \"과학\": 95\n",
            "    },\n",
            "    \"박다현\": {\n",
            "        \"국어\": 66,\n",
            "        \"영어\": 99,\n",
            "        \"수학\": 31,\n",
            "        \"과학\": 72\n",
            "    },\n",
            "    \"이민주\": {\n",
            "        \"국어\": 76,\n",
            "        \"영어\": 83,\n",
            "        \"수학\": 24,\n",
            "        \"과학\": 70\n",
            "    },\n",
            "    \"태지은\": {\n",
            "        \"국어\": 98,\n",
            "        \"영어\": 68,\n",
            "        \"수학\": 25,\n",
            "        \"과학\": 92\n",
            "    },\n",
            "    \"이나연\": {\n",
            "        \"국어\": 77,\n",
            "        \"영어\": 95,\n",
            "        \"수학\": 65,\n",
            "        \"과학\": 99\n",
            "    },\n",
            "    \"박소은\": {\n",
            "        \"국어\": 79,\n",
            "        \"영어\": 73,\n",
            "        \"수학\": 38,\n",
            "        \"과학\": 86\n",
            "    },\n",
            "    \"이시현\": {\n",
            "        \"국어\": 81,\n",
            "        \"영어\": 96,\n",
            "        \"수학\": 48,\n",
            "        \"과학\": 72\n",
            "    },\n",
            "    \"이윤지\": {\n",
            "        \"국어\": 100,\n",
            "        \"영어\": 80,\n",
            "        \"수학\": 25,\n",
            "        \"과학\": 77\n",
            "    },\n",
            "    \"박사랑\": {\n",
            "        \"국어\": 66,\n",
            "        \"영어\": 71,\n",
            "        \"수학\": 72,\n",
            "        \"과학\": 68\n",
            "    },\n",
            "    \"김예빈\": {\n",
            "        \"국어\": 79,\n",
            "        \"영어\": 79,\n",
            "        \"수학\": 27,\n",
            "        \"과학\": 98\n",
            "    },\n",
            "    \"박지현\": {\n",
            "        \"국어\": 65,\n",
            "        \"영어\": 23,\n",
            "        \"수학\": 81,\n",
            "        \"과학\": 89\n",
            "    },\n",
            "    \"박소연\": {\n",
            "        \"국어\": 56,\n",
            "        \"영어\": 57,\n",
            "        \"수학\": 35,\n",
            "        \"과학\": 66\n",
            "    },\n",
            "    \"정나은\": {\n",
            "        \"국어\": 99,\n",
            "        \"영어\": 45,\n",
            "        \"수학\": 41,\n",
            "        \"과학\": 90\n",
            "    },\n",
            "    \"태서하\": {\n",
            "        \"국어\": 57,\n",
            "        \"영어\": 57,\n",
            "        \"수학\": 80,\n",
            "        \"과학\": 78\n",
            "    },\n",
            "    \"이혜원\": {\n",
            "        \"국어\": 73,\n",
            "        \"영어\": 91,\n",
            "        \"수학\": 22,\n",
            "        \"과학\": 90\n",
            "    },\n",
            "    \"이지수\": {\n",
            "        \"국어\": 60,\n",
            "        \"영어\": 24,\n",
            "        \"수학\": 20,\n",
            "        \"과학\": 62\n",
            "    },\n",
            "    \"태은채\": {\n",
            "        \"국어\": 86,\n",
            "        \"영어\": 23,\n",
            "        \"수학\": 95,\n",
            "        \"과학\": 60\n",
            "    },\n",
            "    \"정아윤\": {\n",
            "        \"국어\": 62,\n",
            "        \"영어\": 97,\n",
            "        \"수학\": 31,\n",
            "        \"과학\": 83\n",
            "    },\n",
            "    \"박주하\": {\n",
            "        \"국어\": 70,\n",
            "        \"영어\": 21,\n",
            "        \"수학\": 22,\n",
            "        \"과학\": 71\n",
            "    },\n",
            "    \"이승아\": {\n",
            "        \"국어\": 61,\n",
            "        \"영어\": 80,\n",
            "        \"수학\": 45,\n",
            "        \"과학\": 85\n",
            "    },\n",
            "    \"정채아\": {\n",
            "        \"국어\": 71,\n",
            "        \"영어\": 53,\n",
            "        \"수학\": 82,\n",
            "        \"과학\": 68\n",
            "    },\n",
            "    \"정소민\": {\n",
            "        \"국어\": 63,\n",
            "        \"영어\": 72,\n",
            "        \"수학\": 33,\n",
            "        \"과학\": 97\n",
            "    },\n",
            "    \"이서희\": {\n",
            "        \"국어\": 87,\n",
            "        \"영어\": 53,\n",
            "        \"수학\": 81,\n",
            "        \"과학\": 80\n",
            "    },\n",
            "    \"태나현\": {\n",
            "        \"국어\": 88,\n",
            "        \"영어\": 38,\n",
            "        \"수학\": 46,\n",
            "        \"과학\": 77\n",
            "    },\n",
            "    \"김다윤\": {\n",
            "        \"국어\": 77,\n",
            "        \"영어\": 52,\n",
            "        \"수학\": 50,\n",
            "        \"과학\": 92\n",
            "    },\n",
            "    \"이민아\": {\n",
            "        \"국어\": 98,\n",
            "        \"영어\": 71,\n",
            "        \"수학\": 43,\n",
            "        \"과학\": 68\n",
            "    },\n",
            "    \"정채린\": {\n",
            "        \"국어\": 52,\n",
            "        \"영어\": 53,\n",
            "        \"수학\": 36,\n",
            "        \"과학\": 90\n",
            "    },\n",
            "    \"이하영\": {\n",
            "        \"국어\": 94,\n",
            "        \"영어\": 47,\n",
            "        \"수학\": 84,\n",
            "        \"과학\": 78\n",
            "    },\n",
            "    \"이세은\": {\n",
            "        \"국어\": 62,\n",
            "        \"영어\": 86,\n",
            "        \"수학\": 42,\n",
            "        \"과학\": 90\n",
            "    },\n",
            "    \"태도연\": {\n",
            "        \"국어\": 89,\n",
            "        \"영어\": 56,\n",
            "        \"수학\": 60,\n",
            "        \"과학\": 99\n",
            "    },\n",
            "    \"이규리\": {\n",
            "        \"국어\": 82,\n",
            "        \"영어\": 87,\n",
            "        \"수학\": 75,\n",
            "        \"과학\": 92\n",
            "    },\n",
            "    \"정아영\": {\n",
            "        \"국어\": 86,\n",
            "        \"영어\": 79,\n",
            "        \"수학\": 34,\n",
            "        \"과학\": 81\n",
            "    },\n",
            "    \"정세아\": {\n",
            "        \"국어\": 92,\n",
            "        \"영어\": 99,\n",
            "        \"수학\": 92,\n",
            "        \"과학\": 92\n",
            "    },\n",
            "    \"김지연\": {\n",
            "        \"국어\": 69,\n",
            "        \"영어\": 61,\n",
            "        \"수학\": 15,\n",
            "        \"과학\": 76\n",
            "    },\n",
            "    \"태예림\": {\n",
            "        \"국어\": 96,\n",
            "        \"영어\": 24,\n",
            "        \"수학\": 23,\n",
            "        \"과학\": 85\n",
            "    },\n",
            "    \"정가윤\": {\n",
            "        \"국어\": 69,\n",
            "        \"영어\": 36,\n",
            "        \"수학\": 26,\n",
            "        \"과학\": 63\n",
            "    },\n",
            "    \"정다온\": {\n",
            "        \"국어\": 95,\n",
            "        \"영어\": 73,\n",
            "        \"수학\": 19,\n",
            "        \"과학\": 68\n",
            "    },\n",
            "    \"이태희\": {\n",
            "        \"국어\": 86,\n",
            "        \"영어\": 54,\n",
            "        \"수학\": 94,\n",
            "        \"과학\": 62\n",
            "    },\n",
            "    \"이민채\": {\n",
            "        \"국어\": 85,\n",
            "        \"영어\": 97,\n",
            "        \"수학\": 38,\n",
            "        \"과학\": 69\n",
            "    }\n",
            "}\n"
          ],
          "name": "stdout"
        }
      ]
    },
    {
      "cell_type": "markdown",
      "metadata": {
        "id": "O1mnAj-rf2vC"
      },
      "source": [
        "**12. json 텍스트를 파이썬 오브젝트로 변환**\r\n",
        " - ''.join( list ) : 리스트에서 문자열으로"
      ]
    },
    {
      "cell_type": "code",
      "metadata": {
        "id": "_elQ1GRYf8ct",
        "colab": {
          "base_uri": "https://localhost:8080/"
        },
        "outputId": "32c1d694-822a-46f1-819d-a996d725ae6d"
      },
      "source": [
        "with open('student_json', 'r', encoding=\"UTF-8-sig\") as fr:\r\n",
        "  json_data = json.load(fr) #파일에 저장된 JSON 텍스트를 파이썬 오브젝트로 변환\r\n",
        "print(json_data['태서연'])\r\n",
        "\r\n",
        "with open('student_json', 'r', encoding=\"UTF-8-sig\") as fr:\r\n",
        "  json_text = ''.join(fr.readlines())\r\n",
        "\r\n",
        "json_data = json.loads(json_text) #JSON 형태의 텍스트를 파이썬 오브젝트로 변환\r\n",
        "print(json_data[\"태서연\"])"
      ],
      "execution_count": null,
      "outputs": [
        {
          "output_type": "stream",
          "text": [
            "{'국어': 54, '영어': 72, '수학': 60, '과학': 78}\n",
            "{'국어': 54, '영어': 72, '수학': 60, '과학': 78}\n"
          ],
          "name": "stdout"
        }
      ]
    },
    {
      "cell_type": "markdown",
      "metadata": {
        "id": "q1GZDlkzlo7v"
      },
      "source": [
        "**13. pickle 데이터 직렬화 저장 로딩**"
      ]
    },
    {
      "cell_type": "markdown",
      "metadata": {
        "id": "Tk-k51pim6LC"
      },
      "source": [
        "텍스트 상태의 데이터가 아닌 파이썬 객체 자체를 파일로 저장하는 것 입니다.\r\n",
        "\r\n",
        "\r\n",
        "\r\n",
        "\r\n",
        "\r\n",
        "**그러면 무엇이 좋나요?**\r\n",
        "\r\n",
        "\r\n",
        "\r\n",
        "만약 우리가 10GB 짜리 raw text 파일을 파싱하여 필요한 부분을 빼내서 사용한다고 해봅시다\r\n",
        "\r\n",
        "\r\n",
        "\r\n",
        "raw text 에 있는 내용을 프로그램을 돌릴 때 마다 파싱하여 필요한 부분을 뺀다면 비효율 적이겠죠?\r\n",
        "\r\n",
        "\r\n",
        "\r\n",
        "그래서 미리 필요한 부분을 딕셔너리 던, 리스트 던, 튜플 이던 저장을 해놓는 것 입니다..\r\n",
        "\r\n",
        "\r\n",
        "\r\n",
        "근데 문자열이 아닌 객체를 파일에 쓸 수 없기에,\r\n",
        "\r\n",
        "\r\n",
        "\r\n",
        "pickle 모듈을 활용해 그 객체 자체를 바이너리로 저장하는 것 입니다 !! ㅎㅎ\r\n",
        "\r\n",
        "\r\n",
        "\r\n",
        "\r\n",
        "\r\n",
        "그럼 pickle 모듈로 저장된 파일을 그냥 불러오기만 하면 되기에 속도도 훨씬 빠르겠지요\r\n",
        "\r\n",
        "\r\n",
        "\r\n",
        "출처: https://korbillgates.tistory.com/173 [생물정보학자의 블로그]"
      ]
    },
    {
      "cell_type": "code",
      "metadata": {
        "id": "bM4b6QiAi7wC",
        "colab": {
          "base_uri": "https://localhost:8080/"
        },
        "outputId": "f165f281-c103-4a13-fcac-038e672bfeb3"
      },
      "source": [
        "import json\r\n",
        "import pickle\r\n",
        "\r\n",
        "with open ('student_json', 'r', encoding='UTF-8-sig') as fr:\r\n",
        "  json_data = json.load(fr)\r\n",
        "\r\n",
        "with open ('student_pickle', 'wb') as fw:\r\n",
        "  pickle.dump(json_data, fw)\r\n",
        "\r\n",
        "with open ('student_pickle', 'rb') as fr:\r\n",
        "  pickle_data = pickle.load(fr)\r\n",
        "\r\n",
        "print(pickle_data['태서연'])"
      ],
      "execution_count": null,
      "outputs": [
        {
          "output_type": "stream",
          "text": [
            "{'국어': 54, '영어': 72, '수학': 60, '과학': 78}\n"
          ],
          "name": "stdout"
        }
      ]
    },
    {
      "cell_type": "markdown",
      "metadata": {
        "id": "HeQfHuCknTGG"
      },
      "source": [
        "**<스스로>14. 서울시 인구 통계 분석(실습)**\r\n",
        "- seoul_people_report (CSV) 파일을 기반으로 구명을 key 값을 가지는 딕셔너리로 변경\r\n",
        "\r\n",
        "- 구별 '외국인 비율', '6 세이상고령자 비율' 을 계산 후 각각 key( 외국인비율 , 고령자비율)에 저장"
      ]
    },
    {
      "cell_type": "code",
      "metadata": {
        "colab": {
          "base_uri": "https://localhost:8080/",
          "height": 35
        },
        "id": "PblgnV_W9Bnx",
        "outputId": "de9743e0-c0d1-484c-b752-96e3c1426b95"
      },
      "source": [
        "pwd"
      ],
      "execution_count": 18,
      "outputs": [
        {
          "output_type": "execute_result",
          "data": {
            "application/vnd.google.colaboratory.intrinsic+json": {
              "type": "string"
            },
            "text/plain": [
              "'/content/sample_data'"
            ]
          },
          "metadata": {
            "tags": []
          },
          "execution_count": 18
        }
      ]
    },
    {
      "cell_type": "code",
      "metadata": {
        "colab": {
          "base_uri": "https://localhost:8080/"
        },
        "id": "TUoZyp-z8Viu",
        "outputId": "7285b5a9-4608-4c24-ca54-a774fc65aa33"
      },
      "source": [
        "import json\r\n",
        "\r\n",
        "with open('seoul_people_report.csv', 'r' , encoding='UTF-8-sig') as fr:\r\n",
        "  raw_list = [ _.strip() for _ in fr.readlines() ]\r\n",
        "  raw_split = [_.split(',') for _ in raw_list ]\r\n",
        "\r\n",
        "d = {} # 딕셔너리 선언\r\n",
        "\r\n",
        "for data in raw_split[1:]:\r\n",
        "\r\n",
        "  d[data[0]] = {}\r\n",
        "  d[data[0]] = {}\r\n",
        "\r\n",
        "  d[data[0]]['외국인비율'] = int(data[4]) / int(data[1])\r\n",
        "  d[data[0]]['고령자비율'] = int(data[5]) / int(data[1])\r\n",
        "\r\n",
        "for k, v in d.items():\r\n",
        "  print(k, v)\r\n",
        "\r\n",
        "with open('seoul_people.json', 'w') as fw:\r\n",
        "  json.dump(d, fw, ensure_ascii = False, indent=4)"
      ],
      "execution_count": 19,
      "outputs": [
        {
          "output_type": "stream",
          "text": [
            "합계 {'외국인비율': 0.02797404896312392, '고령자비율': 0.15161495942441722}\n",
            "종로구 {'외국인비율': 0.06646952785460293, '고령자비율': 0.17330724022125643}\n",
            "중구 {'외국인비율': 0.07543105027515407, '고령자비율': 0.17435461533388535}\n",
            "용산구 {'외국인비율': 0.06737757195377085, '고령자비율': 0.1602136778177239}\n",
            "성동구 {'외국인비율': 0.026533807736504413, '고령자비율': 0.14560227609353077}\n",
            "광진구 {'외국인비율': 0.04255034290554387, '고령자비율': 0.13385338397223967}\n",
            "동대문구 {'외국인비율': 0.04585810641329904, '고령자비율': 0.16639516197942078}\n",
            "중랑구 {'외국인비율': 0.012626098762597397, '고령자비율': 0.1666275662751636}\n",
            "성북구 {'외국인비율': 0.026484383937764557, '고령자비율': 0.1587830999797594}\n",
            "강북구 {'외국인비율': 0.011886345698500394, '고령자비율': 0.19466456195737963}\n",
            "도봉구 {'외국인비율': 0.006767717656936386, '고령자비율': 0.17998170887119747}\n",
            "노원구 {'외국인비율': 0.008325007703153158, '고령자비율': 0.15440293560163962}\n",
            "은평구 {'외국인비율': 0.009305525907288776, '고령자비율': 0.17045277911914597}\n",
            "서대문구 {'외국인비율': 0.04060759493670886, '고령자비율': 0.16275565784426543}\n",
            "마포구 {'외국인비율': 0.029827551374564217, '고령자비율': 0.13800811218225992}\n",
            "양천구 {'외국인비율': 0.009104687622141349, '고령자비율': 0.13627934649492326}\n",
            "강서구 {'외국인비율': 0.010745287500650492, '고령자비율': 0.14435381389719373}\n",
            "구로구 {'외국인비율': 0.07408260857661736, '고령자비율': 0.15384615384615385}\n",
            "금천구 {'외국인비율': 0.07473843338504993, '고령자비율': 0.15319250507220433}\n",
            "영등포구 {'외국인비율': 0.08119011972349456, '고령자비율': 0.1466847511895762}\n",
            "동작구 {'외국인비율': 0.03135835528025856, '고령자비율': 0.155413656627481}\n",
            "관악구 {'외국인비율': 0.033460947389202224, '고령자비율': 0.14838327571990972}\n",
            "서초구 {'외국인비율': 0.009735488188849612, '고령자비율': 0.13415792511976743}\n",
            "강남구 {'외국인비율': 0.00926353614670357, '고령자비율': 0.132028121578911}\n",
            "송파구 {'외국인비율': 0.009969407372485434, '고령자비율': 0.13150423787934198}\n",
            "강동구 {'외국인비율': 0.009618372053334268, '고령자비율': 0.14528424083563435}\n"
          ],
          "name": "stdout"
        }
      ]
    }
  ]
}